{
 "metadata": {
  "language_info": {
   "codemirror_mode": {
    "name": "ipython",
    "version": 3
   },
   "file_extension": ".py",
   "mimetype": "text/x-python",
   "name": "python",
   "nbconvert_exporter": "python",
   "pygments_lexer": "ipython3",
   "version": "3.6.10"
  },
  "orig_nbformat": 2,
  "kernelspec": {
   "name": "python3610jvsc74a57bd07f2490a7909a0b1041f3a47ebb71872ac623417d99b53437ed1400d7705c5ac2",
   "display_name": "Python 3.6.10 64-bit ('marvin_v2': conda)"
  }
 },
 "nbformat": 4,
 "nbformat_minor": 2,
 "cells": [
  {
   "cell_type": "code",
   "execution_count": 1,
   "metadata": {},
   "outputs": [
    {
     "output_type": "stream",
     "name": "stdout",
     "text": [
      "# conda environments:\n#\n                         /Users/mmckay/.julia/conda/3\nbase                     /Users/mmckay/conda\nAstronomicalData         /Users/mmckay/conda/envs/AstronomicalData\nastroconda               /Users/mmckay/conda/envs/astroconda\nastroconda27             /Users/mmckay/conda/envs/astroconda27\nastroconda37             /Users/mmckay/conda/envs/astroconda37\nmarvin_env               /Users/mmckay/conda/envs/marvin_env\nmarvin_v2             *  /Users/mmckay/conda/envs/marvin_v2\nztf_alert_env            /Users/mmckay/conda/envs/ztf_alert_env\n\n"
     ]
    }
   ],
   "source": [
    "# Check my current environment\n",
    "!conda info --envs"
   ]
  },
  {
   "cell_type": "code",
   "execution_count": 9,
   "metadata": {},
   "outputs": [],
   "source": [
    "from astropy.coordinates import SkyCoord\n",
    "import astropy.units as u\n",
    "import pandas as pd\n",
    "from astropy.table import Table"
   ]
  },
  {
   "cell_type": "code",
   "execution_count": 152,
   "metadata": {},
   "outputs": [],
   "source": [
    "# LG12 and BBRD SDSS sample with AGN removed using BPT diagnostic\n",
    "lg12_sdss = pd.read_table('/Users/mmckay/Desktop/research/FMR_MZR/lg12_sf_reduced.txt', sep=',')\n",
    "bbrd_sdss = pd.read_table('/Users/mmckay/Desktop/research/FMR_MZR/sdss_129galaxies.txt', sep=' ')"
   ]
  },
  {
   "cell_type": "code",
   "execution_count": 153,
   "metadata": {},
   "outputs": [
    {
     "output_type": "execute_result",
     "data": {
      "text/plain": [
       "     RASDSSinfo  DecSDSSinfo  zSDSSinfo  HalphaSDSSline  O5007SDSSline  \\\n",
       "0    170.862427    -0.713572   0.040784    1.786378e-14   1.539548e-15   \n",
       "1    194.857437    -2.248459   0.047413    6.040483e-15   2.956520e-16   \n",
       "2    121.680412    45.660568   0.034259    1.142312e-14   6.704372e-16   \n",
       "3    160.746124    65.146248   0.042569    4.889136e-15   3.015021e-16   \n",
       "4    213.961533     1.882630   0.025585    4.845318e-15   1.384218e-15   \n",
       "..          ...          ...        ...             ...            ...   \n",
       "121  161.677155    25.931555   0.020585    5.518173e-14   1.826258e-14   \n",
       "122  220.578583    17.510523   0.046396    1.487249e-14   5.031520e-16   \n",
       "123  160.429398    18.910625   0.046978    9.582505e-15   6.252302e-16   \n",
       "124  231.542587    13.698744   0.030100    1.322078e-14   2.925073e-15   \n",
       "125  232.125046    14.470961   0.046574    1.197966e-14   9.840260e-16   \n",
       "\n",
       "     HbetaSDSSline  HdeltaSDSSline     N6583SDSS  S6717SDSSline  \\\n",
       "0     4.978708e-15    1.305116e-15  5.720419e-15   4.065392e-15   \n",
       "1     9.746540e-16    1.737739e-16  4.753626e-15   8.977892e-16   \n",
       "2     2.648039e-15    6.517416e-16  6.716726e-15   1.409686e-15   \n",
       "3     9.112711e-16    1.371944e-16  3.736053e-15   7.244854e-16   \n",
       "4     1.176685e-15    2.776194e-16  3.031298e-15   1.014888e-15   \n",
       "..             ...             ...           ...            ...   \n",
       "121   1.107254e-14    2.437621e-15  3.339275e-14   9.896292e-15   \n",
       "122   2.679227e-15    5.633616e-16  6.583877e-15   1.833631e-15   \n",
       "123   2.547051e-15    6.072162e-16  3.514547e-15   1.583218e-15   \n",
       "124   3.731564e-15    8.269806e-16  4.658475e-15   2.782348e-15   \n",
       "125   3.401949e-15    8.984460e-16  5.982476e-15   2.060892e-15   \n",
       "\n",
       "     S6731SDSSline  ...  fibSFRavgSDSSsfr  fibSFRmedSDSSsfr  \\\n",
       "0     3.101458e-15  ...         -0.115388         -0.161209   \n",
       "1     7.502930e-16  ...          0.933615          0.928727   \n",
       "2     1.453173e-15  ...         -0.252370         -0.234049   \n",
       "3     7.871086e-16  ...          0.198304          0.206888   \n",
       "4     8.386957e-16  ...         -0.784193         -0.759163   \n",
       "..             ...  ...               ...               ...   \n",
       "121   8.039565e-15  ...          0.173145          0.202849   \n",
       "122   1.536121e-15  ...          0.820853          0.786409   \n",
       "123   1.244215e-15  ...         -0.181596         -0.188121   \n",
       "124   2.398039e-15  ...         -0.537763         -0.560960   \n",
       "125   1.576261e-15  ...         -0.015864         -0.051234   \n",
       "\n",
       "     sSFRavgSDSSspecsfr  sSFRmedSDSSspecsfr  sSFRflagSDSSspecsfr   petroRad  \\\n",
       "0             -9.916190           -9.987387                  0.0   6.434447   \n",
       "1             -9.434880           -9.473312                  0.0   8.353609   \n",
       "2            -10.101339          -10.135715                  0.0   4.966561   \n",
       "3             -9.773160           -9.805940                  0.0   4.607538   \n",
       "4            -10.483000          -10.486470                  0.0   8.988586   \n",
       "..                  ...                 ...                  ...        ...   \n",
       "121          -10.293059          -10.318245                  0.0  10.220584   \n",
       "122           -9.610600           -9.639972                  0.0   6.908418   \n",
       "123           -9.886300           -9.924710                  0.0   5.444522   \n",
       "124          -10.339360          -10.379167                  0.0   5.490031   \n",
       "125           -9.886740           -9.928698                  0.0   4.627171   \n",
       "\n",
       "     petroRadE  petroR50  petroR50E   petroR90  \n",
       "0     0.034390  2.831146   0.009270   7.183330  \n",
       "1     0.066384  3.577787   0.016873   8.858759  \n",
       "2     0.064525  2.050702   0.013455   6.196133  \n",
       "3     0.056988  2.022718   0.011594   4.823957  \n",
       "4     0.122002  4.022663   0.022638  10.634166  \n",
       "..         ...       ...        ...        ...  \n",
       "121   0.394757  4.682921   0.071522  14.625969  \n",
       "122   0.148912  2.761581   0.022256   7.625360  \n",
       "123   0.107262  2.232498   0.021168   7.083348  \n",
       "124   0.222119  2.514166   0.045954   8.089074  \n",
       "125   0.062648  1.806328   0.013493   5.310513  \n",
       "\n",
       "[126 rows x 34 columns]"
      ],
      "text/html": "<div>\n<style scoped>\n    .dataframe tbody tr th:only-of-type {\n        vertical-align: middle;\n    }\n\n    .dataframe tbody tr th {\n        vertical-align: top;\n    }\n\n    .dataframe thead th {\n        text-align: right;\n    }\n</style>\n<table border=\"1\" class=\"dataframe\">\n  <thead>\n    <tr style=\"text-align: right;\">\n      <th></th>\n      <th>RASDSSinfo</th>\n      <th>DecSDSSinfo</th>\n      <th>zSDSSinfo</th>\n      <th>HalphaSDSSline</th>\n      <th>O5007SDSSline</th>\n      <th>HbetaSDSSline</th>\n      <th>HdeltaSDSSline</th>\n      <th>N6583SDSS</th>\n      <th>S6717SDSSline</th>\n      <th>S6731SDSSline</th>\n      <th>...</th>\n      <th>fibSFRavgSDSSsfr</th>\n      <th>fibSFRmedSDSSsfr</th>\n      <th>sSFRavgSDSSspecsfr</th>\n      <th>sSFRmedSDSSspecsfr</th>\n      <th>sSFRflagSDSSspecsfr</th>\n      <th>petroRad</th>\n      <th>petroRadE</th>\n      <th>petroR50</th>\n      <th>petroR50E</th>\n      <th>petroR90</th>\n    </tr>\n  </thead>\n  <tbody>\n    <tr>\n      <th>0</th>\n      <td>170.862427</td>\n      <td>-0.713572</td>\n      <td>0.040784</td>\n      <td>1.786378e-14</td>\n      <td>1.539548e-15</td>\n      <td>4.978708e-15</td>\n      <td>1.305116e-15</td>\n      <td>5.720419e-15</td>\n      <td>4.065392e-15</td>\n      <td>3.101458e-15</td>\n      <td>...</td>\n      <td>-0.115388</td>\n      <td>-0.161209</td>\n      <td>-9.916190</td>\n      <td>-9.987387</td>\n      <td>0.0</td>\n      <td>6.434447</td>\n      <td>0.034390</td>\n      <td>2.831146</td>\n      <td>0.009270</td>\n      <td>7.183330</td>\n    </tr>\n    <tr>\n      <th>1</th>\n      <td>194.857437</td>\n      <td>-2.248459</td>\n      <td>0.047413</td>\n      <td>6.040483e-15</td>\n      <td>2.956520e-16</td>\n      <td>9.746540e-16</td>\n      <td>1.737739e-16</td>\n      <td>4.753626e-15</td>\n      <td>8.977892e-16</td>\n      <td>7.502930e-16</td>\n      <td>...</td>\n      <td>0.933615</td>\n      <td>0.928727</td>\n      <td>-9.434880</td>\n      <td>-9.473312</td>\n      <td>0.0</td>\n      <td>8.353609</td>\n      <td>0.066384</td>\n      <td>3.577787</td>\n      <td>0.016873</td>\n      <td>8.858759</td>\n    </tr>\n    <tr>\n      <th>2</th>\n      <td>121.680412</td>\n      <td>45.660568</td>\n      <td>0.034259</td>\n      <td>1.142312e-14</td>\n      <td>6.704372e-16</td>\n      <td>2.648039e-15</td>\n      <td>6.517416e-16</td>\n      <td>6.716726e-15</td>\n      <td>1.409686e-15</td>\n      <td>1.453173e-15</td>\n      <td>...</td>\n      <td>-0.252370</td>\n      <td>-0.234049</td>\n      <td>-10.101339</td>\n      <td>-10.135715</td>\n      <td>0.0</td>\n      <td>4.966561</td>\n      <td>0.064525</td>\n      <td>2.050702</td>\n      <td>0.013455</td>\n      <td>6.196133</td>\n    </tr>\n    <tr>\n      <th>3</th>\n      <td>160.746124</td>\n      <td>65.146248</td>\n      <td>0.042569</td>\n      <td>4.889136e-15</td>\n      <td>3.015021e-16</td>\n      <td>9.112711e-16</td>\n      <td>1.371944e-16</td>\n      <td>3.736053e-15</td>\n      <td>7.244854e-16</td>\n      <td>7.871086e-16</td>\n      <td>...</td>\n      <td>0.198304</td>\n      <td>0.206888</td>\n      <td>-9.773160</td>\n      <td>-9.805940</td>\n      <td>0.0</td>\n      <td>4.607538</td>\n      <td>0.056988</td>\n      <td>2.022718</td>\n      <td>0.011594</td>\n      <td>4.823957</td>\n    </tr>\n    <tr>\n      <th>4</th>\n      <td>213.961533</td>\n      <td>1.882630</td>\n      <td>0.025585</td>\n      <td>4.845318e-15</td>\n      <td>1.384218e-15</td>\n      <td>1.176685e-15</td>\n      <td>2.776194e-16</td>\n      <td>3.031298e-15</td>\n      <td>1.014888e-15</td>\n      <td>8.386957e-16</td>\n      <td>...</td>\n      <td>-0.784193</td>\n      <td>-0.759163</td>\n      <td>-10.483000</td>\n      <td>-10.486470</td>\n      <td>0.0</td>\n      <td>8.988586</td>\n      <td>0.122002</td>\n      <td>4.022663</td>\n      <td>0.022638</td>\n      <td>10.634166</td>\n    </tr>\n    <tr>\n      <th>...</th>\n      <td>...</td>\n      <td>...</td>\n      <td>...</td>\n      <td>...</td>\n      <td>...</td>\n      <td>...</td>\n      <td>...</td>\n      <td>...</td>\n      <td>...</td>\n      <td>...</td>\n      <td>...</td>\n      <td>...</td>\n      <td>...</td>\n      <td>...</td>\n      <td>...</td>\n      <td>...</td>\n      <td>...</td>\n      <td>...</td>\n      <td>...</td>\n      <td>...</td>\n      <td>...</td>\n    </tr>\n    <tr>\n      <th>121</th>\n      <td>161.677155</td>\n      <td>25.931555</td>\n      <td>0.020585</td>\n      <td>5.518173e-14</td>\n      <td>1.826258e-14</td>\n      <td>1.107254e-14</td>\n      <td>2.437621e-15</td>\n      <td>3.339275e-14</td>\n      <td>9.896292e-15</td>\n      <td>8.039565e-15</td>\n      <td>...</td>\n      <td>0.173145</td>\n      <td>0.202849</td>\n      <td>-10.293059</td>\n      <td>-10.318245</td>\n      <td>0.0</td>\n      <td>10.220584</td>\n      <td>0.394757</td>\n      <td>4.682921</td>\n      <td>0.071522</td>\n      <td>14.625969</td>\n    </tr>\n    <tr>\n      <th>122</th>\n      <td>220.578583</td>\n      <td>17.510523</td>\n      <td>0.046396</td>\n      <td>1.487249e-14</td>\n      <td>5.031520e-16</td>\n      <td>2.679227e-15</td>\n      <td>5.633616e-16</td>\n      <td>6.583877e-15</td>\n      <td>1.833631e-15</td>\n      <td>1.536121e-15</td>\n      <td>...</td>\n      <td>0.820853</td>\n      <td>0.786409</td>\n      <td>-9.610600</td>\n      <td>-9.639972</td>\n      <td>0.0</td>\n      <td>6.908418</td>\n      <td>0.148912</td>\n      <td>2.761581</td>\n      <td>0.022256</td>\n      <td>7.625360</td>\n    </tr>\n    <tr>\n      <th>123</th>\n      <td>160.429398</td>\n      <td>18.910625</td>\n      <td>0.046978</td>\n      <td>9.582505e-15</td>\n      <td>6.252302e-16</td>\n      <td>2.547051e-15</td>\n      <td>6.072162e-16</td>\n      <td>3.514547e-15</td>\n      <td>1.583218e-15</td>\n      <td>1.244215e-15</td>\n      <td>...</td>\n      <td>-0.181596</td>\n      <td>-0.188121</td>\n      <td>-9.886300</td>\n      <td>-9.924710</td>\n      <td>0.0</td>\n      <td>5.444522</td>\n      <td>0.107262</td>\n      <td>2.232498</td>\n      <td>0.021168</td>\n      <td>7.083348</td>\n    </tr>\n    <tr>\n      <th>124</th>\n      <td>231.542587</td>\n      <td>13.698744</td>\n      <td>0.030100</td>\n      <td>1.322078e-14</td>\n      <td>2.925073e-15</td>\n      <td>3.731564e-15</td>\n      <td>8.269806e-16</td>\n      <td>4.658475e-15</td>\n      <td>2.782348e-15</td>\n      <td>2.398039e-15</td>\n      <td>...</td>\n      <td>-0.537763</td>\n      <td>-0.560960</td>\n      <td>-10.339360</td>\n      <td>-10.379167</td>\n      <td>0.0</td>\n      <td>5.490031</td>\n      <td>0.222119</td>\n      <td>2.514166</td>\n      <td>0.045954</td>\n      <td>8.089074</td>\n    </tr>\n    <tr>\n      <th>125</th>\n      <td>232.125046</td>\n      <td>14.470961</td>\n      <td>0.046574</td>\n      <td>1.197966e-14</td>\n      <td>9.840260e-16</td>\n      <td>3.401949e-15</td>\n      <td>8.984460e-16</td>\n      <td>5.982476e-15</td>\n      <td>2.060892e-15</td>\n      <td>1.576261e-15</td>\n      <td>...</td>\n      <td>-0.015864</td>\n      <td>-0.051234</td>\n      <td>-9.886740</td>\n      <td>-9.928698</td>\n      <td>0.0</td>\n      <td>4.627171</td>\n      <td>0.062648</td>\n      <td>1.806328</td>\n      <td>0.013493</td>\n      <td>5.310513</td>\n    </tr>\n  </tbody>\n</table>\n<p>126 rows × 34 columns</p>\n</div>"
     },
     "metadata": {},
     "execution_count": 153
    }
   ],
   "source": [
    "bbrd_sdss"
   ]
  },
  {
   "cell_type": "code",
   "execution_count": 154,
   "metadata": {},
   "outputs": [],
   "source": [
    "# read the DR16 drpall file\n",
    "drpall = Table.read('/Users/mmckay/Desktop/research/drpall-v2_4_3.fits')\n",
    "\n",
    "#drpall = Table.read('/Users/mmckay/Desktop/research/dapall-v2_4_3-2.2.1.fits')\n",
    "#drpall.colnames"
   ]
  },
  {
   "cell_type": "code",
   "execution_count": 155,
   "metadata": {},
   "outputs": [],
   "source": [
    "# from astropy.io import fits\n",
    "# hdu = fits.open('/Users/mmckay/Desktop/research/drpall-v2_4_3.fits')\n",
    "# hdu.info()\n",
    "# hdu.close()"
   ]
  },
  {
   "cell_type": "code",
   "execution_count": 156,
   "metadata": {},
   "outputs": [
    {
     "output_type": "execute_result",
     "data": {
      "text/plain": [
       "11465"
      ]
     },
     "metadata": {},
     "execution_count": 156
    }
   ],
   "source": [
    "len(drpall['mangaid'])"
   ]
  },
  {
   "cell_type": "code",
   "execution_count": 157,
   "metadata": {},
   "outputs": [
    {
     "output_type": "execute_result",
     "data": {
      "text/plain": [
       "        Objra     Objdec     mangaid    plateifu        nsa_z\n",
       "0  194.523424  29.017353    1-404249  8935-12701     0.025677\n",
       "1  298.033710  27.752152  7-18517934  9118-12701 -9999.000000\n",
       "2  332.602090  11.713077    1-114955  7977-12701     0.092280\n",
       "3  126.910630  21.256855    1-412866  9494-12701     0.016049\n",
       "4   77.621562  49.421073  7-26306340  8705-12701 -9999.000000"
      ],
      "text/html": "<div>\n<style scoped>\n    .dataframe tbody tr th:only-of-type {\n        vertical-align: middle;\n    }\n\n    .dataframe tbody tr th {\n        vertical-align: top;\n    }\n\n    .dataframe thead th {\n        text-align: right;\n    }\n</style>\n<table border=\"1\" class=\"dataframe\">\n  <thead>\n    <tr style=\"text-align: right;\">\n      <th></th>\n      <th>Objra</th>\n      <th>Objdec</th>\n      <th>mangaid</th>\n      <th>plateifu</th>\n      <th>nsa_z</th>\n    </tr>\n  </thead>\n  <tbody>\n    <tr>\n      <th>0</th>\n      <td>194.523424</td>\n      <td>29.017353</td>\n      <td>1-404249</td>\n      <td>8935-12701</td>\n      <td>0.025677</td>\n    </tr>\n    <tr>\n      <th>1</th>\n      <td>298.033710</td>\n      <td>27.752152</td>\n      <td>7-18517934</td>\n      <td>9118-12701</td>\n      <td>-9999.000000</td>\n    </tr>\n    <tr>\n      <th>2</th>\n      <td>332.602090</td>\n      <td>11.713077</td>\n      <td>1-114955</td>\n      <td>7977-12701</td>\n      <td>0.092280</td>\n    </tr>\n    <tr>\n      <th>3</th>\n      <td>126.910630</td>\n      <td>21.256855</td>\n      <td>1-412866</td>\n      <td>9494-12701</td>\n      <td>0.016049</td>\n    </tr>\n    <tr>\n      <th>4</th>\n      <td>77.621562</td>\n      <td>49.421073</td>\n      <td>7-26306340</td>\n      <td>8705-12701</td>\n      <td>-9999.000000</td>\n    </tr>\n  </tbody>\n</table>\n</div>"
     },
     "metadata": {},
     "execution_count": 157
    }
   ],
   "source": [
    "t=Table()\n",
    "t['Objra'] = drpall['objra'] \n",
    "t['Objdec'] = drpall['objdec']\n",
    "t['mangaid'] = drpall['mangaid']\n",
    "t['plateifu'] = drpall['plateifu']\n",
    "t['nsa_z'] = drpall['nsa_z']\n",
    "#t['cenra'] = drpall['cenra'.upper()]\n",
    "#t['cendec'] = drpall['cendec'.upper()]\n",
    "\n",
    "# Convert astropy table to pandas dataframe\n",
    "manga_dr16_catalog = t.to_pandas()\n",
    "# Note that the mangid and plateifu has a dtype=byte11 so we use the following line to convert to string values\n",
    "manga_dr16_catalog['mangaid'] = manga_dr16_catalog['mangaid'].str.decode(\"utf-8\")\n",
    "manga_dr16_catalog['plateifu'] = manga_dr16_catalog['plateifu'].str.decode(\"utf-8\")\n",
    "\n",
    "# Display first 5 rows\n",
    "manga_dr16_catalog.head()"
   ]
  },
  {
   "cell_type": "code",
   "execution_count": 158,
   "metadata": {},
   "outputs": [],
   "source": [
    "# Input DR16 RA and DEC into Skycoord\n",
    "dr16_skycoord = SkyCoord(ra=manga_dr16_catalog['Objra'], dec=manga_dr16_catalog['Objdec'], frame='icrs', unit=u.deg)\n",
    "\n",
    "# Input BBRD RA and DEC into Skycoord\n",
    "bbrd_skycoord = SkyCoord(ra=bbrd_sdss['RASDSSinfo'], dec=bbrd_sdss['DecSDSSinfo'], frame='icrs', unit=u.deg)\n",
    "\n",
    "# Input LG12 RA and DEC into Skycoord\n",
    "lg12_skycoord = SkyCoord(ra=lg12_sdss['RASDSSinfo'], dec=lg12_sdss['DecSDSSinfo'], frame='icrs', unit=u.deg)"
   ]
  },
  {
   "cell_type": "code",
   "execution_count": 175,
   "metadata": {},
   "outputs": [
    {
     "output_type": "execute_result",
     "data": {
      "text/plain": [
       "          Objra     Objdec      mangaid    plateifu        nsa_z  SDSS_RA_deg  \\\n",
       "0    194.523424  29.017353     1-404249  8935-12701     0.025677   194.680054   \n",
       "33   117.216794  17.356267     1-382648  9492-12701     0.039551   117.992996   \n",
       "192  176.054950   2.229615  3-109278902  8930-12701 -9999.000000   173.692719   \n",
       "236  125.697648  17.330886     1-460305  8241-12701     0.021315   125.365952   \n",
       "237  164.549790  10.999012    7-7461254  9064-12701 -9999.000000   162.949677   \n",
       "\n",
       "     SDSS_DEC_deg    SDSS_z  DR16_match_sep2d_deg  DR16_match_sep2d_arcsec  \n",
       "0       28.910057  0.027834              0.174046               626.567209  \n",
       "33      15.711414  0.047002              1.805321              6499.157247  \n",
       "192      2.921034  0.028753              2.459037              8852.531781  \n",
       "236     12.392598  0.041644              4.948676             17815.232420  \n",
       "237     10.866212  0.026918              1.576673              5676.024158  "
      ],
      "text/html": "<div>\n<style scoped>\n    .dataframe tbody tr th:only-of-type {\n        vertical-align: middle;\n    }\n\n    .dataframe tbody tr th {\n        vertical-align: top;\n    }\n\n    .dataframe thead th {\n        text-align: right;\n    }\n</style>\n<table border=\"1\" class=\"dataframe\">\n  <thead>\n    <tr style=\"text-align: right;\">\n      <th></th>\n      <th>Objra</th>\n      <th>Objdec</th>\n      <th>mangaid</th>\n      <th>plateifu</th>\n      <th>nsa_z</th>\n      <th>SDSS_RA_deg</th>\n      <th>SDSS_DEC_deg</th>\n      <th>SDSS_z</th>\n      <th>DR16_match_sep2d_deg</th>\n      <th>DR16_match_sep2d_arcsec</th>\n    </tr>\n  </thead>\n  <tbody>\n    <tr>\n      <th>0</th>\n      <td>194.523424</td>\n      <td>29.017353</td>\n      <td>1-404249</td>\n      <td>8935-12701</td>\n      <td>0.025677</td>\n      <td>194.680054</td>\n      <td>28.910057</td>\n      <td>0.027834</td>\n      <td>0.174046</td>\n      <td>626.567209</td>\n    </tr>\n    <tr>\n      <th>33</th>\n      <td>117.216794</td>\n      <td>17.356267</td>\n      <td>1-382648</td>\n      <td>9492-12701</td>\n      <td>0.039551</td>\n      <td>117.992996</td>\n      <td>15.711414</td>\n      <td>0.047002</td>\n      <td>1.805321</td>\n      <td>6499.157247</td>\n    </tr>\n    <tr>\n      <th>192</th>\n      <td>176.054950</td>\n      <td>2.229615</td>\n      <td>3-109278902</td>\n      <td>8930-12701</td>\n      <td>-9999.000000</td>\n      <td>173.692719</td>\n      <td>2.921034</td>\n      <td>0.028753</td>\n      <td>2.459037</td>\n      <td>8852.531781</td>\n    </tr>\n    <tr>\n      <th>236</th>\n      <td>125.697648</td>\n      <td>17.330886</td>\n      <td>1-460305</td>\n      <td>8241-12701</td>\n      <td>0.021315</td>\n      <td>125.365952</td>\n      <td>12.392598</td>\n      <td>0.041644</td>\n      <td>4.948676</td>\n      <td>17815.232420</td>\n    </tr>\n    <tr>\n      <th>237</th>\n      <td>164.549790</td>\n      <td>10.999012</td>\n      <td>7-7461254</td>\n      <td>9064-12701</td>\n      <td>-9999.000000</td>\n      <td>162.949677</td>\n      <td>10.866212</td>\n      <td>0.026918</td>\n      <td>1.576673</td>\n      <td>5676.024158</td>\n    </tr>\n  </tbody>\n</table>\n</div>"
     },
     "metadata": {},
     "execution_count": 175
    }
   ],
   "source": [
    "# Match the DR16 MaNGA catalog with the BBRD sample\n",
    "bbrd_dr16_skycoord_match = bbrd_skycoord.match_to_catalog_sky(catalogcoord=dr16_skycoord, nthneighbor=1.0)\n",
    "\n",
    "# Crete a dataframe with the BBRD sample RA, DEC and redshift, match_idx, sep2d\n",
    "bbrd_dr16_match_df = pd.DataFrame()\n",
    "bbrd_dr16_match_df['SDSS_RA_deg'] = bbrd_sdss['RASDSSinfo']\n",
    "bbrd_dr16_match_df['SDSS_DEC_deg'] = bbrd_sdss['DecSDSSinfo']\n",
    "bbrd_dr16_match_df['SDSS_z'] = bbrd_sdss['zSDSSinfo']\n",
    "bbrd_dr16_match_df['DR16_match_idx'] = bbrd_dr16_skycoord_match[0]\n",
    "bbrd_dr16_match_df['DR16_match_sep2d_deg'] = bbrd_dr16_skycoord_match[1]\n",
    "bbrd_dr16_match_df['DR16_match_sep2d_arcsec'] = bbrd_dr16_skycoord_match[1].to(u.arcsec)\n",
    "\n",
    "# Set the dataframe index to manga catalog matched index\n",
    "bbrd_dr16_match_df = bbrd_dr16_match_df.set_index('DR16_match_idx')\n",
    "\n",
    "# Display first 5 rows\n",
    "#print(bbrd_dr16_match_df.head(5))\n",
    "\n",
    "# Store all the matched observation using the skycoord idx in a dataframe \n",
    "mangaDR16_catalog_bbrd_match_df = manga_dr16_catalog.iloc[bbrd_dr16_skycoord_match[0]]\n",
    "#print(mangaDR16_catalog_bbrd_match_df.head(5))\n",
    "\n",
    "# join the dataframes\n",
    "final_bbrd_manga_match_df = mangaDR16_catalog_bbrd_match_df.join(bbrd_dr16_match_df)\n",
    "final_bbrd_manga_match_df.to_csv('/Users/mmckay/Desktop/research/FMR_MZR/final_MaNGAdr16_bbrd_crossmatch.csv')\n",
    "\n",
    "final_bbrd_manga_match_df.head(5)"
   ]
  },
  {
   "cell_type": "code",
   "execution_count": 176,
   "metadata": {},
   "outputs": [
    {
     "output_type": "execute_result",
     "data": {
      "text/plain": [
       "         Objra     Objdec   mangaid    plateifu        nsa_z  SDSS_RA_deg  \\\n",
       "0   194.523424  29.017353  1-404249  8935-12701     0.025677   194.680054   \n",
       "6   146.701430  31.719579  1-389685  8150-12701     0.021994   144.101196   \n",
       "10  233.319218  48.119651  1-209191  8485-12701     0.023425   233.089645   \n",
       "12  194.898779  27.959268      50-2  8480-12701 -9999.000000   194.907944   \n",
       "24  245.441961  25.820678  1-296190  9047-12701     0.047982   245.784775   \n",
       "\n",
       "    SDSS_DEC_deg    SDSS_z  DR16_match_sep2d_deg  DR16_match_sep2d_arcsec  \n",
       "0      28.910057  0.027834              0.174046               626.567209  \n",
       "6      32.079330  0.026945              2.236599              8051.757031  \n",
       "10     48.405632  0.037079              0.324256              1167.322313  \n",
       "12     27.907326  0.026711              0.052570               189.250425  \n",
       "24     25.824289  0.047765              0.308604              1110.974992  "
      ],
      "text/html": "<div>\n<style scoped>\n    .dataframe tbody tr th:only-of-type {\n        vertical-align: middle;\n    }\n\n    .dataframe tbody tr th {\n        vertical-align: top;\n    }\n\n    .dataframe thead th {\n        text-align: right;\n    }\n</style>\n<table border=\"1\" class=\"dataframe\">\n  <thead>\n    <tr style=\"text-align: right;\">\n      <th></th>\n      <th>Objra</th>\n      <th>Objdec</th>\n      <th>mangaid</th>\n      <th>plateifu</th>\n      <th>nsa_z</th>\n      <th>SDSS_RA_deg</th>\n      <th>SDSS_DEC_deg</th>\n      <th>SDSS_z</th>\n      <th>DR16_match_sep2d_deg</th>\n      <th>DR16_match_sep2d_arcsec</th>\n    </tr>\n  </thead>\n  <tbody>\n    <tr>\n      <th>0</th>\n      <td>194.523424</td>\n      <td>29.017353</td>\n      <td>1-404249</td>\n      <td>8935-12701</td>\n      <td>0.025677</td>\n      <td>194.680054</td>\n      <td>28.910057</td>\n      <td>0.027834</td>\n      <td>0.174046</td>\n      <td>626.567209</td>\n    </tr>\n    <tr>\n      <th>6</th>\n      <td>146.701430</td>\n      <td>31.719579</td>\n      <td>1-389685</td>\n      <td>8150-12701</td>\n      <td>0.021994</td>\n      <td>144.101196</td>\n      <td>32.079330</td>\n      <td>0.026945</td>\n      <td>2.236599</td>\n      <td>8051.757031</td>\n    </tr>\n    <tr>\n      <th>10</th>\n      <td>233.319218</td>\n      <td>48.119651</td>\n      <td>1-209191</td>\n      <td>8485-12701</td>\n      <td>0.023425</td>\n      <td>233.089645</td>\n      <td>48.405632</td>\n      <td>0.037079</td>\n      <td>0.324256</td>\n      <td>1167.322313</td>\n    </tr>\n    <tr>\n      <th>12</th>\n      <td>194.898779</td>\n      <td>27.959268</td>\n      <td>50-2</td>\n      <td>8480-12701</td>\n      <td>-9999.000000</td>\n      <td>194.907944</td>\n      <td>27.907326</td>\n      <td>0.026711</td>\n      <td>0.052570</td>\n      <td>189.250425</td>\n    </tr>\n    <tr>\n      <th>24</th>\n      <td>245.441961</td>\n      <td>25.820678</td>\n      <td>1-296190</td>\n      <td>9047-12701</td>\n      <td>0.047982</td>\n      <td>245.784775</td>\n      <td>25.824289</td>\n      <td>0.047765</td>\n      <td>0.308604</td>\n      <td>1110.974992</td>\n    </tr>\n  </tbody>\n</table>\n</div>"
     },
     "metadata": {},
     "execution_count": 176
    }
   ],
   "source": [
    "# Match the DR16 MaNGA catalog with the BBRD sample\n",
    "lg12_dr16_skycoord_match = lg12_skycoord.match_to_catalog_sky(catalogcoord=dr16_skycoord, nthneighbor=1.0)\n",
    "\n",
    "# Crete a dataframe with the lg12 sample RA, DEC and redshift, match_idx, sep2d\n",
    "lg12_dr16_match_df = pd.DataFrame()\n",
    "lg12_dr16_match_df['SDSS_RA_deg'] = lg12_sdss['RASDSSinfo']\n",
    "lg12_dr16_match_df['SDSS_DEC_deg'] = lg12_sdss['DecSDSSinfo']\n",
    "lg12_dr16_match_df['SDSS_z'] = lg12_sdss['zSDSSinfo']\n",
    "lg12_dr16_match_df['DR16_match_idx'] = lg12_dr16_skycoord_match[0]\n",
    "lg12_dr16_match_df['DR16_match_sep2d_deg'] = lg12_dr16_skycoord_match[1]\n",
    "lg12_dr16_match_df['DR16_match_sep2d_arcsec'] = lg12_dr16_skycoord_match[1].to(u.arcsec)\n",
    "\n",
    "# Set the dataframe index to manga catalog matched index\n",
    "lg12_dr16_match_df = lg12_dr16_match_df.set_index('DR16_match_idx')\n",
    "\n",
    "# Display first 5 rows\n",
    "#print(lg12_dr16_match_df.head(5))\n",
    "\n",
    "# Store all the matched observation using the skycoord idx in a dataframe \n",
    "mangaDR16_catalog_lg12_match_df = manga_dr16_catalog.iloc[lg12_dr16_skycoord_match[0]]\n",
    "#print(mangaDR16_catalog_lg12_match_df.head(5))\n",
    "\n",
    "# join the dataframes\n",
    "final_lg12_manga_match_df = mangaDR16_catalog_lg12_match_df.join(lg12_dr16_match_df)\n",
    "final_lg12_manga_match_df.to_csv('/Users/mmckay/Desktop/research/FMR_MZR/final_MaNGAdr16_lg12_crossmatch.csv')\n",
    "\n",
    "final_lg12_manga_match_df.head(5)"
   ]
  },
  {
   "cell_type": "code",
   "execution_count": 181,
   "metadata": {},
   "outputs": [
    {
     "output_type": "execute_result",
     "data": {
      "text/plain": [
       "           Objra     Objdec   mangaid    plateifu     nsa_z  SDSS_RA_deg  \\\n",
       "1860  247.674430  40.529389  1-135054  8550-12703  0.029812   247.674454   \n",
       "2472  247.304125  41.150872  1-633990  8312-12704  0.029593   247.304123   \n",
       "4357  163.219110  43.428404  1-255878   8254-1902  0.024237   163.219131   \n",
       "5871  132.912768  57.107424   1-48136  10001-3702  0.025606   132.912735   \n",
       "6164  121.920806  39.004239  1-122304   9183-3703  0.023345   121.920807   \n",
       "\n",
       "      SDSS_DEC_deg    SDSS_z  DR16_match_sep2d_deg  DR16_match_sep2d_arcsec  \n",
       "1860     40.529392  0.029812              0.000018                 0.065126  \n",
       "2472     41.150890  0.029593              0.000018                 0.065034  \n",
       "4357     43.428398  0.024237              0.000017                 0.060257  \n",
       "5871     57.107433  0.025606              0.000021                 0.073910  \n",
       "6164     39.004246  0.023345              0.000007                 0.024821  "
      ],
      "text/html": "<div>\n<style scoped>\n    .dataframe tbody tr th:only-of-type {\n        vertical-align: middle;\n    }\n\n    .dataframe tbody tr th {\n        vertical-align: top;\n    }\n\n    .dataframe thead th {\n        text-align: right;\n    }\n</style>\n<table border=\"1\" class=\"dataframe\">\n  <thead>\n    <tr style=\"text-align: right;\">\n      <th></th>\n      <th>Objra</th>\n      <th>Objdec</th>\n      <th>mangaid</th>\n      <th>plateifu</th>\n      <th>nsa_z</th>\n      <th>SDSS_RA_deg</th>\n      <th>SDSS_DEC_deg</th>\n      <th>SDSS_z</th>\n      <th>DR16_match_sep2d_deg</th>\n      <th>DR16_match_sep2d_arcsec</th>\n    </tr>\n  </thead>\n  <tbody>\n    <tr>\n      <th>1860</th>\n      <td>247.674430</td>\n      <td>40.529389</td>\n      <td>1-135054</td>\n      <td>8550-12703</td>\n      <td>0.029812</td>\n      <td>247.674454</td>\n      <td>40.529392</td>\n      <td>0.029812</td>\n      <td>0.000018</td>\n      <td>0.065126</td>\n    </tr>\n    <tr>\n      <th>2472</th>\n      <td>247.304125</td>\n      <td>41.150872</td>\n      <td>1-633990</td>\n      <td>8312-12704</td>\n      <td>0.029593</td>\n      <td>247.304123</td>\n      <td>41.150890</td>\n      <td>0.029593</td>\n      <td>0.000018</td>\n      <td>0.065034</td>\n    </tr>\n    <tr>\n      <th>4357</th>\n      <td>163.219110</td>\n      <td>43.428404</td>\n      <td>1-255878</td>\n      <td>8254-1902</td>\n      <td>0.024237</td>\n      <td>163.219131</td>\n      <td>43.428398</td>\n      <td>0.024237</td>\n      <td>0.000017</td>\n      <td>0.060257</td>\n    </tr>\n    <tr>\n      <th>5871</th>\n      <td>132.912768</td>\n      <td>57.107424</td>\n      <td>1-48136</td>\n      <td>10001-3702</td>\n      <td>0.025606</td>\n      <td>132.912735</td>\n      <td>57.107433</td>\n      <td>0.025606</td>\n      <td>0.000021</td>\n      <td>0.073910</td>\n    </tr>\n    <tr>\n      <th>6164</th>\n      <td>121.920806</td>\n      <td>39.004239</td>\n      <td>1-122304</td>\n      <td>9183-3703</td>\n      <td>0.023345</td>\n      <td>121.920807</td>\n      <td>39.004246</td>\n      <td>0.023345</td>\n      <td>0.000007</td>\n      <td>0.024821</td>\n    </tr>\n  </tbody>\n</table>\n</div>"
     },
     "metadata": {},
     "execution_count": 181
    }
   ],
   "source": [
    "# Select matches that have a 2D seperation within 0.2 arcsec\n",
    "# filter the sep2d > 0.2 arcsecs\n",
    "sep2d_filter = final_bbrd_manga_match_df['DR16_match_sep2d_arcsec'] <= 0.2\n",
    "filtered_manga_bbrd_match_df = final_bbrd_manga_match_df[sep2d_filter]\n",
    "filtered_manga_bbrd_match_df.to_csv('/Users/mmckay/Desktop/research/FMR_MZR/filtered_final_MaNGAdr16_bbrd_crossmatch.csv')\n",
    "filtered_manga_bbrd_match_df.head()\n"
   ]
  },
  {
   "cell_type": "code",
   "execution_count": 182,
   "metadata": {},
   "outputs": [
    {
     "output_type": "execute_result",
     "data": {
      "text/plain": [
       "            Objra     Objdec   mangaid    plateifu     nsa_z  SDSS_RA_deg  \\\n",
       "385    154.731810  40.612939  1-254342  8455-12701  0.029230   154.731796   \n",
       "385    154.731810  40.612939  1-254342  8455-12701  0.029230   154.731796   \n",
       "468    115.633440  44.233819  1-338829  8138-12701  0.044773   115.633453   \n",
       "468    115.633440  44.233819  1-338829  8138-12701  0.044773   115.633453   \n",
       "581    195.973168  47.386444  1-284428  8465-12701  0.023672   195.973129   \n",
       "...           ...        ...       ...         ...       ...          ...   \n",
       "10415  168.734506  50.334873  1-149200   8947-9101  0.047134   168.734482   \n",
       "10799  235.941919  28.415212  1-633219   9041-9102  0.032751   235.941910   \n",
       "10819  198.189163  46.934987  1-284526   8465-9102  0.027681   198.189117   \n",
       "11056  171.065567  51.742307  1-149461   8997-9102  0.032578   171.065491   \n",
       "11230  235.208007  38.513459  1-236776   8315-9102  0.043747   235.207993   \n",
       "\n",
       "       SDSS_DEC_deg    SDSS_z  DR16_match_sep2d_deg  DR16_match_sep2d_arcsec  \n",
       "385       40.612934  0.029230              0.000011                 0.040875  \n",
       "385       40.612934  0.029230              0.000011                 0.040875  \n",
       "468       44.233864  0.044773              0.000046                 0.165016  \n",
       "468       44.233864  0.044773              0.000046                 0.165016  \n",
       "581       47.386490  0.023672              0.000053                 0.189157  \n",
       "...             ...       ...                   ...                      ...  \n",
       "10415     50.334839  0.047134              0.000037                 0.134392  \n",
       "10799     28.415230  0.032751              0.000020                 0.071572  \n",
       "10819     46.934990  0.027681              0.000031                 0.112648  \n",
       "11056     51.742298  0.032578              0.000048                 0.173156  \n",
       "11230     38.513474  0.043747              0.000019                 0.066752  \n",
       "\n",
       "[133 rows x 10 columns]"
      ],
      "text/html": "<div>\n<style scoped>\n    .dataframe tbody tr th:only-of-type {\n        vertical-align: middle;\n    }\n\n    .dataframe tbody tr th {\n        vertical-align: top;\n    }\n\n    .dataframe thead th {\n        text-align: right;\n    }\n</style>\n<table border=\"1\" class=\"dataframe\">\n  <thead>\n    <tr style=\"text-align: right;\">\n      <th></th>\n      <th>Objra</th>\n      <th>Objdec</th>\n      <th>mangaid</th>\n      <th>plateifu</th>\n      <th>nsa_z</th>\n      <th>SDSS_RA_deg</th>\n      <th>SDSS_DEC_deg</th>\n      <th>SDSS_z</th>\n      <th>DR16_match_sep2d_deg</th>\n      <th>DR16_match_sep2d_arcsec</th>\n    </tr>\n  </thead>\n  <tbody>\n    <tr>\n      <th>385</th>\n      <td>154.731810</td>\n      <td>40.612939</td>\n      <td>1-254342</td>\n      <td>8455-12701</td>\n      <td>0.029230</td>\n      <td>154.731796</td>\n      <td>40.612934</td>\n      <td>0.029230</td>\n      <td>0.000011</td>\n      <td>0.040875</td>\n    </tr>\n    <tr>\n      <th>385</th>\n      <td>154.731810</td>\n      <td>40.612939</td>\n      <td>1-254342</td>\n      <td>8455-12701</td>\n      <td>0.029230</td>\n      <td>154.731796</td>\n      <td>40.612934</td>\n      <td>0.029230</td>\n      <td>0.000011</td>\n      <td>0.040875</td>\n    </tr>\n    <tr>\n      <th>468</th>\n      <td>115.633440</td>\n      <td>44.233819</td>\n      <td>1-338829</td>\n      <td>8138-12701</td>\n      <td>0.044773</td>\n      <td>115.633453</td>\n      <td>44.233864</td>\n      <td>0.044773</td>\n      <td>0.000046</td>\n      <td>0.165016</td>\n    </tr>\n    <tr>\n      <th>468</th>\n      <td>115.633440</td>\n      <td>44.233819</td>\n      <td>1-338829</td>\n      <td>8138-12701</td>\n      <td>0.044773</td>\n      <td>115.633453</td>\n      <td>44.233864</td>\n      <td>0.044773</td>\n      <td>0.000046</td>\n      <td>0.165016</td>\n    </tr>\n    <tr>\n      <th>581</th>\n      <td>195.973168</td>\n      <td>47.386444</td>\n      <td>1-284428</td>\n      <td>8465-12701</td>\n      <td>0.023672</td>\n      <td>195.973129</td>\n      <td>47.386490</td>\n      <td>0.023672</td>\n      <td>0.000053</td>\n      <td>0.189157</td>\n    </tr>\n    <tr>\n      <th>...</th>\n      <td>...</td>\n      <td>...</td>\n      <td>...</td>\n      <td>...</td>\n      <td>...</td>\n      <td>...</td>\n      <td>...</td>\n      <td>...</td>\n      <td>...</td>\n      <td>...</td>\n    </tr>\n    <tr>\n      <th>10415</th>\n      <td>168.734506</td>\n      <td>50.334873</td>\n      <td>1-149200</td>\n      <td>8947-9101</td>\n      <td>0.047134</td>\n      <td>168.734482</td>\n      <td>50.334839</td>\n      <td>0.047134</td>\n      <td>0.000037</td>\n      <td>0.134392</td>\n    </tr>\n    <tr>\n      <th>10799</th>\n      <td>235.941919</td>\n      <td>28.415212</td>\n      <td>1-633219</td>\n      <td>9041-9102</td>\n      <td>0.032751</td>\n      <td>235.941910</td>\n      <td>28.415230</td>\n      <td>0.032751</td>\n      <td>0.000020</td>\n      <td>0.071572</td>\n    </tr>\n    <tr>\n      <th>10819</th>\n      <td>198.189163</td>\n      <td>46.934987</td>\n      <td>1-284526</td>\n      <td>8465-9102</td>\n      <td>0.027681</td>\n      <td>198.189117</td>\n      <td>46.934990</td>\n      <td>0.027681</td>\n      <td>0.000031</td>\n      <td>0.112648</td>\n    </tr>\n    <tr>\n      <th>11056</th>\n      <td>171.065567</td>\n      <td>51.742307</td>\n      <td>1-149461</td>\n      <td>8997-9102</td>\n      <td>0.032578</td>\n      <td>171.065491</td>\n      <td>51.742298</td>\n      <td>0.032578</td>\n      <td>0.000048</td>\n      <td>0.173156</td>\n    </tr>\n    <tr>\n      <th>11230</th>\n      <td>235.208007</td>\n      <td>38.513459</td>\n      <td>1-236776</td>\n      <td>8315-9102</td>\n      <td>0.043747</td>\n      <td>235.207993</td>\n      <td>38.513474</td>\n      <td>0.043747</td>\n      <td>0.000019</td>\n      <td>0.066752</td>\n    </tr>\n  </tbody>\n</table>\n<p>133 rows × 10 columns</p>\n</div>"
     },
     "metadata": {},
     "execution_count": 182
    }
   ],
   "source": [
    "# filter the sep2d > 0.2 arcsecs\n",
    "sep2d_filter = final_lg12_manga_match_df['DR16_match_sep2d_arcsec'] <= 0.2\n",
    "filtered_manga_lg12_match_df = final_lg12_manga_match_df[sep2d_filter]\n",
    "filtered_manga_bbrd_match_df.to_csv('/Users/mmckay/Desktop/research/FMR_MZR/filtered_final_MaNGAdr16_lg12_crossmatch.csv')\n",
    "filtered_manga_lg12_match_df"
   ]
  },
  {
   "cell_type": "code",
   "execution_count": null,
   "metadata": {},
   "outputs": [],
   "source": []
  }
 ]
}