{
 "metadata": {
  "language_info": {
   "codemirror_mode": {
    "name": "ipython",
    "version": 3
   },
   "file_extension": ".py",
   "mimetype": "text/x-python",
   "name": "python",
   "nbconvert_exporter": "python",
   "pygments_lexer": "ipython3",
   "version": "3.6.10"
  },
  "orig_nbformat": 2,
  "kernelspec": {
   "name": "python3610jvsc74a57bd07f2490a7909a0b1041f3a47ebb71872ac623417d99b53437ed1400d7705c5ac2",
   "display_name": "Python 3.6.10 64-bit ('marvin_v2': conda)"
  }
 },
 "nbformat": 4,
 "nbformat_minor": 2,
 "cells": [
  {
   "cell_type": "code",
   "execution_count": 2,
   "metadata": {},
   "outputs": [
    {
     "output_type": "stream",
     "name": "stdout",
     "text": [
      "# conda environments:\n#\n                         /Users/mmckay/.julia/conda/3\nbase                     /Users/mmckay/conda\nAstronomicalData         /Users/mmckay/conda/envs/AstronomicalData\nastroconda               /Users/mmckay/conda/envs/astroconda\nastroconda27             /Users/mmckay/conda/envs/astroconda27\nastroconda37             /Users/mmckay/conda/envs/astroconda37\nmarvin_env               /Users/mmckay/conda/envs/marvin_env\nmarvin_v2             *  /Users/mmckay/conda/envs/marvin_v2\nztf_alert_env            /Users/mmckay/conda/envs/ztf_alert_env\n\n"
     ]
    }
   ],
   "source": [
    "# Check my current environment\n",
    "!conda info --envs"
   ]
  },
  {
   "cell_type": "code",
   "execution_count": 3,
   "metadata": {},
   "outputs": [],
   "source": [
    "from astropy.coordinates import SkyCoord\n",
    "import astropy.units as u\n",
    "import pandas as pd\n",
    "from astropy.table import Table"
   ]
  },
  {
   "cell_type": "code",
   "execution_count": 4,
   "metadata": {},
   "outputs": [],
   "source": [
    "# LG12 and BBRD SDSS sample with AGN removed using BPT diagnostic\n",
    "lg12_sdss = pd.read_table('/Users/mmckay/Desktop/research/FMR_MZR/lg12_sf_reduced.txt', sep=',')\n",
    "bbrd_sdss = pd.read_table('/Users/mmckay/Desktop/research/FMR_MZR/sdss_129galaxies.txt', sep=' ')"
   ]
  },
  {
   "cell_type": "code",
   "execution_count": 5,
   "metadata": {},
   "outputs": [
    {
     "output_type": "execute_result",
     "data": {
      "text/plain": [
       "     RASDSSinfo  DecSDSSinfo  zSDSSinfo  HalphaSDSSline  O5007SDSSline  \\\n",
       "0    170.862427    -0.713572   0.040784    1.786378e-14   1.539548e-15   \n",
       "1    194.857437    -2.248459   0.047413    6.040483e-15   2.956520e-16   \n",
       "2    121.680412    45.660568   0.034259    1.142312e-14   6.704372e-16   \n",
       "3    160.746124    65.146248   0.042569    4.889136e-15   3.015021e-16   \n",
       "4    213.961533     1.882630   0.025585    4.845318e-15   1.384218e-15   \n",
       "..          ...          ...        ...             ...            ...   \n",
       "121  161.677155    25.931555   0.020585    5.518173e-14   1.826258e-14   \n",
       "122  220.578583    17.510523   0.046396    1.487249e-14   5.031520e-16   \n",
       "123  160.429398    18.910625   0.046978    9.582505e-15   6.252302e-16   \n",
       "124  231.542587    13.698744   0.030100    1.322078e-14   2.925073e-15   \n",
       "125  232.125046    14.470961   0.046574    1.197966e-14   9.840260e-16   \n",
       "\n",
       "     HbetaSDSSline  HdeltaSDSSline     N6583SDSS  S6717SDSSline  \\\n",
       "0     4.978708e-15    1.305116e-15  5.720419e-15   4.065392e-15   \n",
       "1     9.746540e-16    1.737739e-16  4.753626e-15   8.977892e-16   \n",
       "2     2.648039e-15    6.517416e-16  6.716726e-15   1.409686e-15   \n",
       "3     9.112711e-16    1.371944e-16  3.736053e-15   7.244854e-16   \n",
       "4     1.176685e-15    2.776194e-16  3.031298e-15   1.014888e-15   \n",
       "..             ...             ...           ...            ...   \n",
       "121   1.107254e-14    2.437621e-15  3.339275e-14   9.896292e-15   \n",
       "122   2.679227e-15    5.633616e-16  6.583877e-15   1.833631e-15   \n",
       "123   2.547051e-15    6.072162e-16  3.514547e-15   1.583218e-15   \n",
       "124   3.731564e-15    8.269806e-16  4.658475e-15   2.782348e-15   \n",
       "125   3.401949e-15    8.984460e-16  5.982476e-15   2.060892e-15   \n",
       "\n",
       "     S6731SDSSline  ...  fibSFRavgSDSSsfr  fibSFRmedSDSSsfr  \\\n",
       "0     3.101458e-15  ...         -0.115388         -0.161209   \n",
       "1     7.502930e-16  ...          0.933615          0.928727   \n",
       "2     1.453173e-15  ...         -0.252370         -0.234049   \n",
       "3     7.871086e-16  ...          0.198304          0.206888   \n",
       "4     8.386957e-16  ...         -0.784193         -0.759163   \n",
       "..             ...  ...               ...               ...   \n",
       "121   8.039565e-15  ...          0.173145          0.202849   \n",
       "122   1.536121e-15  ...          0.820853          0.786409   \n",
       "123   1.244215e-15  ...         -0.181596         -0.188121   \n",
       "124   2.398039e-15  ...         -0.537763         -0.560960   \n",
       "125   1.576261e-15  ...         -0.015864         -0.051234   \n",
       "\n",
       "     sSFRavgSDSSspecsfr  sSFRmedSDSSspecsfr  sSFRflagSDSSspecsfr   petroRad  \\\n",
       "0             -9.916190           -9.987387                  0.0   6.434447   \n",
       "1             -9.434880           -9.473312                  0.0   8.353609   \n",
       "2            -10.101339          -10.135715                  0.0   4.966561   \n",
       "3             -9.773160           -9.805940                  0.0   4.607538   \n",
       "4            -10.483000          -10.486470                  0.0   8.988586   \n",
       "..                  ...                 ...                  ...        ...   \n",
       "121          -10.293059          -10.318245                  0.0  10.220584   \n",
       "122           -9.610600           -9.639972                  0.0   6.908418   \n",
       "123           -9.886300           -9.924710                  0.0   5.444522   \n",
       "124          -10.339360          -10.379167                  0.0   5.490031   \n",
       "125           -9.886740           -9.928698                  0.0   4.627171   \n",
       "\n",
       "     petroRadE  petroR50  petroR50E   petroR90  \n",
       "0     0.034390  2.831146   0.009270   7.183330  \n",
       "1     0.066384  3.577787   0.016873   8.858759  \n",
       "2     0.064525  2.050702   0.013455   6.196133  \n",
       "3     0.056988  2.022718   0.011594   4.823957  \n",
       "4     0.122002  4.022663   0.022638  10.634166  \n",
       "..         ...       ...        ...        ...  \n",
       "121   0.394757  4.682921   0.071522  14.625969  \n",
       "122   0.148912  2.761581   0.022256   7.625360  \n",
       "123   0.107262  2.232498   0.021168   7.083348  \n",
       "124   0.222119  2.514166   0.045954   8.089074  \n",
       "125   0.062648  1.806328   0.013493   5.310513  \n",
       "\n",
       "[126 rows x 34 columns]"
      ],
      "text/html": "<div>\n<style scoped>\n    .dataframe tbody tr th:only-of-type {\n        vertical-align: middle;\n    }\n\n    .dataframe tbody tr th {\n        vertical-align: top;\n    }\n\n    .dataframe thead th {\n        text-align: right;\n    }\n</style>\n<table border=\"1\" class=\"dataframe\">\n  <thead>\n    <tr style=\"text-align: right;\">\n      <th></th>\n      <th>RASDSSinfo</th>\n      <th>DecSDSSinfo</th>\n      <th>zSDSSinfo</th>\n      <th>HalphaSDSSline</th>\n      <th>O5007SDSSline</th>\n      <th>HbetaSDSSline</th>\n      <th>HdeltaSDSSline</th>\n      <th>N6583SDSS</th>\n      <th>S6717SDSSline</th>\n      <th>S6731SDSSline</th>\n      <th>...</th>\n      <th>fibSFRavgSDSSsfr</th>\n      <th>fibSFRmedSDSSsfr</th>\n      <th>sSFRavgSDSSspecsfr</th>\n      <th>sSFRmedSDSSspecsfr</th>\n      <th>sSFRflagSDSSspecsfr</th>\n      <th>petroRad</th>\n      <th>petroRadE</th>\n      <th>petroR50</th>\n      <th>petroR50E</th>\n      <th>petroR90</th>\n    </tr>\n  </thead>\n  <tbody>\n    <tr>\n      <th>0</th>\n      <td>170.862427</td>\n      <td>-0.713572</td>\n      <td>0.040784</td>\n      <td>1.786378e-14</td>\n      <td>1.539548e-15</td>\n      <td>4.978708e-15</td>\n      <td>1.305116e-15</td>\n      <td>5.720419e-15</td>\n      <td>4.065392e-15</td>\n      <td>3.101458e-15</td>\n      <td>...</td>\n      <td>-0.115388</td>\n      <td>-0.161209</td>\n      <td>-9.916190</td>\n      <td>-9.987387</td>\n      <td>0.0</td>\n      <td>6.434447</td>\n      <td>0.034390</td>\n      <td>2.831146</td>\n      <td>0.009270</td>\n      <td>7.183330</td>\n    </tr>\n    <tr>\n      <th>1</th>\n      <td>194.857437</td>\n      <td>-2.248459</td>\n      <td>0.047413</td>\n      <td>6.040483e-15</td>\n      <td>2.956520e-16</td>\n      <td>9.746540e-16</td>\n      <td>1.737739e-16</td>\n      <td>4.753626e-15</td>\n      <td>8.977892e-16</td>\n      <td>7.502930e-16</td>\n      <td>...</td>\n      <td>0.933615</td>\n      <td>0.928727</td>\n      <td>-9.434880</td>\n      <td>-9.473312</td>\n      <td>0.0</td>\n      <td>8.353609</td>\n      <td>0.066384</td>\n      <td>3.577787</td>\n      <td>0.016873</td>\n      <td>8.858759</td>\n    </tr>\n    <tr>\n      <th>2</th>\n      <td>121.680412</td>\n      <td>45.660568</td>\n      <td>0.034259</td>\n      <td>1.142312e-14</td>\n      <td>6.704372e-16</td>\n      <td>2.648039e-15</td>\n      <td>6.517416e-16</td>\n      <td>6.716726e-15</td>\n      <td>1.409686e-15</td>\n      <td>1.453173e-15</td>\n      <td>...</td>\n      <td>-0.252370</td>\n      <td>-0.234049</td>\n      <td>-10.101339</td>\n      <td>-10.135715</td>\n      <td>0.0</td>\n      <td>4.966561</td>\n      <td>0.064525</td>\n      <td>2.050702</td>\n      <td>0.013455</td>\n      <td>6.196133</td>\n    </tr>\n    <tr>\n      <th>3</th>\n      <td>160.746124</td>\n      <td>65.146248</td>\n      <td>0.042569</td>\n      <td>4.889136e-15</td>\n      <td>3.015021e-16</td>\n      <td>9.112711e-16</td>\n      <td>1.371944e-16</td>\n      <td>3.736053e-15</td>\n      <td>7.244854e-16</td>\n      <td>7.871086e-16</td>\n      <td>...</td>\n      <td>0.198304</td>\n      <td>0.206888</td>\n      <td>-9.773160</td>\n      <td>-9.805940</td>\n      <td>0.0</td>\n      <td>4.607538</td>\n      <td>0.056988</td>\n      <td>2.022718</td>\n      <td>0.011594</td>\n      <td>4.823957</td>\n    </tr>\n    <tr>\n      <th>4</th>\n      <td>213.961533</td>\n      <td>1.882630</td>\n      <td>0.025585</td>\n      <td>4.845318e-15</td>\n      <td>1.384218e-15</td>\n      <td>1.176685e-15</td>\n      <td>2.776194e-16</td>\n      <td>3.031298e-15</td>\n      <td>1.014888e-15</td>\n      <td>8.386957e-16</td>\n      <td>...</td>\n      <td>-0.784193</td>\n      <td>-0.759163</td>\n      <td>-10.483000</td>\n      <td>-10.486470</td>\n      <td>0.0</td>\n      <td>8.988586</td>\n      <td>0.122002</td>\n      <td>4.022663</td>\n      <td>0.022638</td>\n      <td>10.634166</td>\n    </tr>\n    <tr>\n      <th>...</th>\n      <td>...</td>\n      <td>...</td>\n      <td>...</td>\n      <td>...</td>\n      <td>...</td>\n      <td>...</td>\n      <td>...</td>\n      <td>...</td>\n      <td>...</td>\n      <td>...</td>\n      <td>...</td>\n      <td>...</td>\n      <td>...</td>\n      <td>...</td>\n      <td>...</td>\n      <td>...</td>\n      <td>...</td>\n      <td>...</td>\n      <td>...</td>\n      <td>...</td>\n      <td>...</td>\n    </tr>\n    <tr>\n      <th>121</th>\n      <td>161.677155</td>\n      <td>25.931555</td>\n      <td>0.020585</td>\n      <td>5.518173e-14</td>\n      <td>1.826258e-14</td>\n      <td>1.107254e-14</td>\n      <td>2.437621e-15</td>\n      <td>3.339275e-14</td>\n      <td>9.896292e-15</td>\n      <td>8.039565e-15</td>\n      <td>...</td>\n      <td>0.173145</td>\n      <td>0.202849</td>\n      <td>-10.293059</td>\n      <td>-10.318245</td>\n      <td>0.0</td>\n      <td>10.220584</td>\n      <td>0.394757</td>\n      <td>4.682921</td>\n      <td>0.071522</td>\n      <td>14.625969</td>\n    </tr>\n    <tr>\n      <th>122</th>\n      <td>220.578583</td>\n      <td>17.510523</td>\n      <td>0.046396</td>\n      <td>1.487249e-14</td>\n      <td>5.031520e-16</td>\n      <td>2.679227e-15</td>\n      <td>5.633616e-16</td>\n      <td>6.583877e-15</td>\n      <td>1.833631e-15</td>\n      <td>1.536121e-15</td>\n      <td>...</td>\n      <td>0.820853</td>\n      <td>0.786409</td>\n      <td>-9.610600</td>\n      <td>-9.639972</td>\n      <td>0.0</td>\n      <td>6.908418</td>\n      <td>0.148912</td>\n      <td>2.761581</td>\n      <td>0.022256</td>\n      <td>7.625360</td>\n    </tr>\n    <tr>\n      <th>123</th>\n      <td>160.429398</td>\n      <td>18.910625</td>\n      <td>0.046978</td>\n      <td>9.582505e-15</td>\n      <td>6.252302e-16</td>\n      <td>2.547051e-15</td>\n      <td>6.072162e-16</td>\n      <td>3.514547e-15</td>\n      <td>1.583218e-15</td>\n      <td>1.244215e-15</td>\n      <td>...</td>\n      <td>-0.181596</td>\n      <td>-0.188121</td>\n      <td>-9.886300</td>\n      <td>-9.924710</td>\n      <td>0.0</td>\n      <td>5.444522</td>\n      <td>0.107262</td>\n      <td>2.232498</td>\n      <td>0.021168</td>\n      <td>7.083348</td>\n    </tr>\n    <tr>\n      <th>124</th>\n      <td>231.542587</td>\n      <td>13.698744</td>\n      <td>0.030100</td>\n      <td>1.322078e-14</td>\n      <td>2.925073e-15</td>\n      <td>3.731564e-15</td>\n      <td>8.269806e-16</td>\n      <td>4.658475e-15</td>\n      <td>2.782348e-15</td>\n      <td>2.398039e-15</td>\n      <td>...</td>\n      <td>-0.537763</td>\n      <td>-0.560960</td>\n      <td>-10.339360</td>\n      <td>-10.379167</td>\n      <td>0.0</td>\n      <td>5.490031</td>\n      <td>0.222119</td>\n      <td>2.514166</td>\n      <td>0.045954</td>\n      <td>8.089074</td>\n    </tr>\n    <tr>\n      <th>125</th>\n      <td>232.125046</td>\n      <td>14.470961</td>\n      <td>0.046574</td>\n      <td>1.197966e-14</td>\n      <td>9.840260e-16</td>\n      <td>3.401949e-15</td>\n      <td>8.984460e-16</td>\n      <td>5.982476e-15</td>\n      <td>2.060892e-15</td>\n      <td>1.576261e-15</td>\n      <td>...</td>\n      <td>-0.015864</td>\n      <td>-0.051234</td>\n      <td>-9.886740</td>\n      <td>-9.928698</td>\n      <td>0.0</td>\n      <td>4.627171</td>\n      <td>0.062648</td>\n      <td>1.806328</td>\n      <td>0.013493</td>\n      <td>5.310513</td>\n    </tr>\n  </tbody>\n</table>\n<p>126 rows × 34 columns</p>\n</div>"
     },
     "metadata": {},
     "execution_count": 5
    }
   ],
   "source": [
    "bbrd_sdss"
   ]
  },
  {
   "cell_type": "code",
   "execution_count": 6,
   "metadata": {},
   "outputs": [
    {
     "output_type": "stream",
     "name": "stderr",
     "text": [
      "WARNING: hdu= was not specified but multiple tables are present, reading in first available table (hdu=1) [astropy.io.fits.connect]\n"
     ]
    },
    {
     "output_type": "execute_result",
     "data": {
      "text/plain": [
       "['plate',\n",
       " 'ifudsgn',\n",
       " 'plateifu',\n",
       " 'mangaid',\n",
       " 'versdrp2',\n",
       " 'versdrp3',\n",
       " 'verscore',\n",
       " 'versutil',\n",
       " 'versprim',\n",
       " 'platetyp',\n",
       " 'srvymode',\n",
       " 'objra',\n",
       " 'objdec',\n",
       " 'ifuglon',\n",
       " 'ifuglat',\n",
       " 'ifura',\n",
       " 'ifudec',\n",
       " 'ebvgal',\n",
       " 'nexp',\n",
       " 'exptime',\n",
       " 'drp3qual',\n",
       " 'bluesn2',\n",
       " 'redsn2',\n",
       " 'harname',\n",
       " 'frlplug',\n",
       " 'cartid',\n",
       " 'designid',\n",
       " 'cenra',\n",
       " 'cendec',\n",
       " 'airmsmin',\n",
       " 'airmsmed',\n",
       " 'airmsmax',\n",
       " 'seemin',\n",
       " 'seemed',\n",
       " 'seemax',\n",
       " 'transmin',\n",
       " 'transmed',\n",
       " 'transmax',\n",
       " 'mjdmin',\n",
       " 'mjdmed',\n",
       " 'mjdmax',\n",
       " 'gfwhm',\n",
       " 'rfwhm',\n",
       " 'ifwhm',\n",
       " 'zfwhm',\n",
       " 'mngtarg1',\n",
       " 'mngtarg2',\n",
       " 'mngtarg3',\n",
       " 'catidnum',\n",
       " 'plttarg',\n",
       " 'manga_tileid',\n",
       " 'nsa_iauname',\n",
       " 'ifudesignsize',\n",
       " 'ifutargetsize',\n",
       " 'ifudesignwrongsize',\n",
       " 'z',\n",
       " 'zmin',\n",
       " 'zmax',\n",
       " 'szmin',\n",
       " 'szmax',\n",
       " 'ezmin',\n",
       " 'ezmax',\n",
       " 'probs',\n",
       " 'pweight',\n",
       " 'psweight',\n",
       " 'psrweight',\n",
       " 'sweight',\n",
       " 'srweight',\n",
       " 'eweight',\n",
       " 'esweight',\n",
       " 'esrweight',\n",
       " 'nsa_field',\n",
       " 'nsa_run',\n",
       " 'nsa_camcol',\n",
       " 'nsa_version',\n",
       " 'nsa_nsaid',\n",
       " 'nsa_nsaid_v1b',\n",
       " 'nsa_z',\n",
       " 'nsa_zdist',\n",
       " 'nsa_sersic_absmag',\n",
       " 'nsa_elpetro_absmag',\n",
       " 'nsa_elpetro_amivar',\n",
       " 'nsa_sersic_mass',\n",
       " 'nsa_elpetro_mass',\n",
       " 'nsa_elpetro_ba',\n",
       " 'nsa_elpetro_phi',\n",
       " 'nsa_extinction',\n",
       " 'nsa_elpetro_th50_r',\n",
       " 'nsa_petro_th50',\n",
       " 'nsa_petro_flux',\n",
       " 'nsa_petro_flux_ivar',\n",
       " 'nsa_elpetro_flux',\n",
       " 'nsa_elpetro_flux_ivar',\n",
       " 'nsa_sersic_ba',\n",
       " 'nsa_sersic_n',\n",
       " 'nsa_sersic_phi',\n",
       " 'nsa_sersic_th50',\n",
       " 'nsa_sersic_flux',\n",
       " 'nsa_sersic_flux_ivar']"
      ]
     },
     "metadata": {},
     "execution_count": 6
    }
   ],
   "source": [
    "# read the DR16 drpall file\n",
    "drpall = Table.read('/Users/mmckay/Desktop/research/drpall-v3_1_1.fits')\n",
    "\n",
    "#drpall = Table.read('/Users/mmckay/Desktop/research/dapall-v2_4_3-2.2.1.fits')\n",
    "drpall.colnames"
   ]
  },
  {
   "cell_type": "code",
   "execution_count": 155,
   "metadata": {},
   "outputs": [],
   "source": [
    "# from astropy.io import fits\n",
    "# hdu = fits.open('/Users/mmckay/Desktop/research/drpall-v2_4_3.fits')\n",
    "# hdu.info()\n",
    "# hdu.close()"
   ]
  },
  {
   "cell_type": "code",
   "execution_count": 7,
   "metadata": {},
   "outputs": [
    {
     "output_type": "execute_result",
     "data": {
      "text/plain": [
       "11273"
      ]
     },
     "metadata": {},
     "execution_count": 7
    }
   ],
   "source": [
    "len(drpall['mangaid'])"
   ]
  },
  {
   "cell_type": "code",
   "execution_count": 9,
   "metadata": {},
   "outputs": [
    {
     "output_type": "execute_result",
     "data": {
      "text/plain": [
       "        Objra     Objdec  mangaid     plateifu     nsa_z\n",
       "0  133.371091  57.598425  1-48157  10001-12701  0.039207\n",
       "1  133.685670  57.480250  1-48188  10001-12702  0.040811\n",
       "2  136.017160  57.092329  1-55648  10001-12703  0.046209\n",
       "3  133.989967  57.677968  1-55616  10001-12704  0.014122\n",
       "4  136.751375  57.451437  1-55784  10001-12705  0.046235"
      ],
      "text/html": "<div>\n<style scoped>\n    .dataframe tbody tr th:only-of-type {\n        vertical-align: middle;\n    }\n\n    .dataframe tbody tr th {\n        vertical-align: top;\n    }\n\n    .dataframe thead th {\n        text-align: right;\n    }\n</style>\n<table border=\"1\" class=\"dataframe\">\n  <thead>\n    <tr style=\"text-align: right;\">\n      <th></th>\n      <th>Objra</th>\n      <th>Objdec</th>\n      <th>mangaid</th>\n      <th>plateifu</th>\n      <th>nsa_z</th>\n    </tr>\n  </thead>\n  <tbody>\n    <tr>\n      <th>0</th>\n      <td>133.371091</td>\n      <td>57.598425</td>\n      <td>1-48157</td>\n      <td>10001-12701</td>\n      <td>0.039207</td>\n    </tr>\n    <tr>\n      <th>1</th>\n      <td>133.685670</td>\n      <td>57.480250</td>\n      <td>1-48188</td>\n      <td>10001-12702</td>\n      <td>0.040811</td>\n    </tr>\n    <tr>\n      <th>2</th>\n      <td>136.017160</td>\n      <td>57.092329</td>\n      <td>1-55648</td>\n      <td>10001-12703</td>\n      <td>0.046209</td>\n    </tr>\n    <tr>\n      <th>3</th>\n      <td>133.989967</td>\n      <td>57.677968</td>\n      <td>1-55616</td>\n      <td>10001-12704</td>\n      <td>0.014122</td>\n    </tr>\n    <tr>\n      <th>4</th>\n      <td>136.751375</td>\n      <td>57.451437</td>\n      <td>1-55784</td>\n      <td>10001-12705</td>\n      <td>0.046235</td>\n    </tr>\n  </tbody>\n</table>\n</div>"
     },
     "metadata": {},
     "execution_count": 9
    }
   ],
   "source": [
    "t=Table()\n",
    "t['Objra'] = drpall['objra'] \n",
    "t['Objdec'] = drpall['objdec']\n",
    "t['mangaid'] = drpall['mangaid']\n",
    "t['plateifu'] = drpall['plateifu']\n",
    "t['nsa_z'] = drpall['nsa_z']\n",
    "#t['cenra'] = drpall['cenra'.upper()]\n",
    "#t['cendec'] = drpall['cendec'.upper()]\n",
    "\n",
    "# Convert astropy table to pandas dataframe\n",
    "manga_dr16_catalog = t.to_pandas()\n",
    "# Note that the mangid and plateifu has a dtype=byte11 so we use the following line to convert to string values\n",
    "manga_dr16_catalog['mangaid'] = manga_dr16_catalog['mangaid'].str.decode(\"utf-8\")\n",
    "manga_dr16_catalog['plateifu'] = manga_dr16_catalog['plateifu'].str.decode(\"utf-8\")\n",
    "\n",
    "# Display first 5 rows\n",
    "manga_dr16_catalog.head()"
   ]
  },
  {
   "cell_type": "code",
   "execution_count": 10,
   "metadata": {},
   "outputs": [],
   "source": [
    "# Input DR16 RA and DEC into Skycoord\n",
    "dr16_skycoord = SkyCoord(ra=manga_dr16_catalog['Objra'], dec=manga_dr16_catalog['Objdec'], frame='icrs', unit=u.deg)\n",
    "\n",
    "# Input BBRD RA and DEC into Skycoord\n",
    "bbrd_skycoord = SkyCoord(ra=bbrd_sdss['RASDSSinfo'], dec=bbrd_sdss['DecSDSSinfo'], frame='icrs', unit=u.deg)\n",
    "\n",
    "# Input LG12 RA and DEC into Skycoord\n",
    "lg12_skycoord = SkyCoord(ra=lg12_sdss['RASDSSinfo'], dec=lg12_sdss['DecSDSSinfo'], frame='icrs', unit=u.deg)"
   ]
  },
  {
   "cell_type": "code",
   "execution_count": 18,
   "metadata": {},
   "outputs": [
    {
     "output_type": "execute_result",
     "data": {
      "text/plain": [
       "          Objra     Objdec   mangaid     plateifu     nsa_z  SDSS_RA_deg  \\\n",
       "2    136.017160  57.092329   1-55648  10001-12703  0.046209   136.337219   \n",
       "8    132.912768  57.107424   1-48136   10001-3702  0.025606   132.912735   \n",
       "11   137.041134  57.423612   1-55683   10001-6101  0.119001   143.092377   \n",
       "268  117.993013  15.711410  1-412058   10217-6103  0.047002   117.992996   \n",
       "756  135.694805  32.775107  1-567465   10500-6103  0.064109   135.496231   \n",
       "\n",
       "     SDSS_DEC_deg    SDSS_z  DR16_match_sep2d_deg  DR16_match_sep2d_arcsec  \n",
       "2       57.159943  0.046300              0.186419               671.108124  \n",
       "8       57.107433  0.025606              0.000021                 0.073910  \n",
       "11      55.919205  0.049193              3.647641             13131.506235  \n",
       "268     15.711414  0.047002              0.000017                 0.061114  \n",
       "756     33.534836  0.043993              0.777705              2799.737018  "
      ],
      "text/html": "<div>\n<style scoped>\n    .dataframe tbody tr th:only-of-type {\n        vertical-align: middle;\n    }\n\n    .dataframe tbody tr th {\n        vertical-align: top;\n    }\n\n    .dataframe thead th {\n        text-align: right;\n    }\n</style>\n<table border=\"1\" class=\"dataframe\">\n  <thead>\n    <tr style=\"text-align: right;\">\n      <th></th>\n      <th>Objra</th>\n      <th>Objdec</th>\n      <th>mangaid</th>\n      <th>plateifu</th>\n      <th>nsa_z</th>\n      <th>SDSS_RA_deg</th>\n      <th>SDSS_DEC_deg</th>\n      <th>SDSS_z</th>\n      <th>DR16_match_sep2d_deg</th>\n      <th>DR16_match_sep2d_arcsec</th>\n    </tr>\n  </thead>\n  <tbody>\n    <tr>\n      <th>2</th>\n      <td>136.017160</td>\n      <td>57.092329</td>\n      <td>1-55648</td>\n      <td>10001-12703</td>\n      <td>0.046209</td>\n      <td>136.337219</td>\n      <td>57.159943</td>\n      <td>0.046300</td>\n      <td>0.186419</td>\n      <td>671.108124</td>\n    </tr>\n    <tr>\n      <th>8</th>\n      <td>132.912768</td>\n      <td>57.107424</td>\n      <td>1-48136</td>\n      <td>10001-3702</td>\n      <td>0.025606</td>\n      <td>132.912735</td>\n      <td>57.107433</td>\n      <td>0.025606</td>\n      <td>0.000021</td>\n      <td>0.073910</td>\n    </tr>\n    <tr>\n      <th>11</th>\n      <td>137.041134</td>\n      <td>57.423612</td>\n      <td>1-55683</td>\n      <td>10001-6101</td>\n      <td>0.119001</td>\n      <td>143.092377</td>\n      <td>55.919205</td>\n      <td>0.049193</td>\n      <td>3.647641</td>\n      <td>13131.506235</td>\n    </tr>\n    <tr>\n      <th>268</th>\n      <td>117.993013</td>\n      <td>15.711410</td>\n      <td>1-412058</td>\n      <td>10217-6103</td>\n      <td>0.047002</td>\n      <td>117.992996</td>\n      <td>15.711414</td>\n      <td>0.047002</td>\n      <td>0.000017</td>\n      <td>0.061114</td>\n    </tr>\n    <tr>\n      <th>756</th>\n      <td>135.694805</td>\n      <td>32.775107</td>\n      <td>1-567465</td>\n      <td>10500-6103</td>\n      <td>0.064109</td>\n      <td>135.496231</td>\n      <td>33.534836</td>\n      <td>0.043993</td>\n      <td>0.777705</td>\n      <td>2799.737018</td>\n    </tr>\n  </tbody>\n</table>\n</div>"
     },
     "metadata": {},
     "execution_count": 18
    }
   ],
   "source": [
    "# Match the DR16 MaNGA catalog with the BBRD sample\n",
    "bbrd_dr16_skycoord_match = bbrd_skycoord.match_to_catalog_sky(catalogcoord=dr16_skycoord, nthneighbor=1.0)\n",
    "\n",
    "# Crete a dataframe with the BBRD sample RA, DEC and redshift, match_idx, sep2d\n",
    "bbrd_dr16_match_df = pd.DataFrame()\n",
    "bbrd_dr16_match_df['SDSS_RA_deg'] = bbrd_sdss['RASDSSinfo']\n",
    "bbrd_dr16_match_df['SDSS_DEC_deg'] = bbrd_sdss['DecSDSSinfo']\n",
    "bbrd_dr16_match_df['SDSS_z'] = bbrd_sdss['zSDSSinfo']\n",
    "bbrd_dr16_match_df['DR16_match_idx'] = bbrd_dr16_skycoord_match[0]\n",
    "bbrd_dr16_match_df['DR16_match_sep2d_deg'] = bbrd_dr16_skycoord_match[1]\n",
    "bbrd_dr16_match_df['DR16_match_sep2d_arcsec'] = bbrd_dr16_skycoord_match[1].to(u.arcsec)\n",
    "\n",
    "# Set the dataframe index to manga catalog matched index\n",
    "bbrd_dr16_match_df = bbrd_dr16_match_df.set_index('DR16_match_idx')\n",
    "\n",
    "# Display first 5 rows\n",
    "#print(bbrd_dr16_match_df.head(5))\n",
    "\n",
    "# Store all the matched observation using the skycoord idx in a dataframe \n",
    "mangaDR16_catalog_bbrd_match_df = manga_dr16_catalog.iloc[bbrd_dr16_skycoord_match[0]]\n",
    "#print(mangaDR16_catalog_bbrd_match_df.head(5))\n",
    "\n",
    "# join the dataframes\n",
    "final_bbrd_manga_match_df = mangaDR16_catalog_bbrd_match_df.join(bbrd_dr16_match_df)\n",
    "final_bbrd_manga_match_df.to_csv('/Users/mmckay/Desktop/research/FMR_MZR/final_MaNGAdr16_bbrd_crossmatch.csv')\n",
    "\n",
    "final_bbrd_manga_match_df.head(5)"
   ]
  },
  {
   "cell_type": "code",
   "execution_count": 19,
   "metadata": {},
   "outputs": [
    {
     "output_type": "execute_result",
     "data": {
      "text/plain": [
       "        Objra     Objdec  mangaid     plateifu     nsa_z  SDSS_RA_deg  \\\n",
       "0  133.371091  57.598425  1-48157  10001-12701  0.039207   130.311386   \n",
       "0  133.371091  57.598425  1-48157  10001-12701  0.039207   130.075485   \n",
       "0  133.371091  57.598425  1-48157  10001-12701  0.039207   130.311386   \n",
       "0  133.371091  57.598425  1-48157  10001-12701  0.039207   130.075485   \n",
       "2  136.017160  57.092329  1-55648  10001-12703  0.046209   136.337219   \n",
       "\n",
       "   SDSS_DEC_deg    SDSS_z  DR16_match_sep2d_deg  DR16_match_sep2d_arcsec  \n",
       "0     60.559681  0.039371              3.351925             12066.931325  \n",
       "0     59.929253  0.039990              2.889486             10402.151050  \n",
       "0     60.559681  0.039371              3.351925             12066.931325  \n",
       "0     59.929253  0.039990              2.889486             10402.151050  \n",
       "2     57.159943  0.046315              0.186419               671.108124  "
      ],
      "text/html": "<div>\n<style scoped>\n    .dataframe tbody tr th:only-of-type {\n        vertical-align: middle;\n    }\n\n    .dataframe tbody tr th {\n        vertical-align: top;\n    }\n\n    .dataframe thead th {\n        text-align: right;\n    }\n</style>\n<table border=\"1\" class=\"dataframe\">\n  <thead>\n    <tr style=\"text-align: right;\">\n      <th></th>\n      <th>Objra</th>\n      <th>Objdec</th>\n      <th>mangaid</th>\n      <th>plateifu</th>\n      <th>nsa_z</th>\n      <th>SDSS_RA_deg</th>\n      <th>SDSS_DEC_deg</th>\n      <th>SDSS_z</th>\n      <th>DR16_match_sep2d_deg</th>\n      <th>DR16_match_sep2d_arcsec</th>\n    </tr>\n  </thead>\n  <tbody>\n    <tr>\n      <th>0</th>\n      <td>133.371091</td>\n      <td>57.598425</td>\n      <td>1-48157</td>\n      <td>10001-12701</td>\n      <td>0.039207</td>\n      <td>130.311386</td>\n      <td>60.559681</td>\n      <td>0.039371</td>\n      <td>3.351925</td>\n      <td>12066.931325</td>\n    </tr>\n    <tr>\n      <th>0</th>\n      <td>133.371091</td>\n      <td>57.598425</td>\n      <td>1-48157</td>\n      <td>10001-12701</td>\n      <td>0.039207</td>\n      <td>130.075485</td>\n      <td>59.929253</td>\n      <td>0.039990</td>\n      <td>2.889486</td>\n      <td>10402.151050</td>\n    </tr>\n    <tr>\n      <th>0</th>\n      <td>133.371091</td>\n      <td>57.598425</td>\n      <td>1-48157</td>\n      <td>10001-12701</td>\n      <td>0.039207</td>\n      <td>130.311386</td>\n      <td>60.559681</td>\n      <td>0.039371</td>\n      <td>3.351925</td>\n      <td>12066.931325</td>\n    </tr>\n    <tr>\n      <th>0</th>\n      <td>133.371091</td>\n      <td>57.598425</td>\n      <td>1-48157</td>\n      <td>10001-12701</td>\n      <td>0.039207</td>\n      <td>130.075485</td>\n      <td>59.929253</td>\n      <td>0.039990</td>\n      <td>2.889486</td>\n      <td>10402.151050</td>\n    </tr>\n    <tr>\n      <th>2</th>\n      <td>136.017160</td>\n      <td>57.092329</td>\n      <td>1-55648</td>\n      <td>10001-12703</td>\n      <td>0.046209</td>\n      <td>136.337219</td>\n      <td>57.159943</td>\n      <td>0.046315</td>\n      <td>0.186419</td>\n      <td>671.108124</td>\n    </tr>\n  </tbody>\n</table>\n</div>"
     },
     "metadata": {},
     "execution_count": 19
    }
   ],
   "source": [
    "# Match the DR16 MaNGA catalog with the BBRD sample\n",
    "lg12_dr16_skycoord_match = lg12_skycoord.match_to_catalog_sky(catalogcoord=dr16_skycoord, nthneighbor=1.0)\n",
    "\n",
    "# Crete a dataframe with the lg12 sample RA, DEC and redshift, match_idx, sep2d\n",
    "lg12_dr16_match_df = pd.DataFrame()\n",
    "lg12_dr16_match_df['SDSS_RA_deg'] = lg12_sdss['RASDSSinfo']\n",
    "lg12_dr16_match_df['SDSS_DEC_deg'] = lg12_sdss['DecSDSSinfo']\n",
    "lg12_dr16_match_df['SDSS_z'] = lg12_sdss['zSDSSinfo']\n",
    "lg12_dr16_match_df['DR16_match_idx'] = lg12_dr16_skycoord_match[0]\n",
    "lg12_dr16_match_df['DR16_match_sep2d_deg'] = lg12_dr16_skycoord_match[1]\n",
    "lg12_dr16_match_df['DR16_match_sep2d_arcsec'] = lg12_dr16_skycoord_match[1].to(u.arcsec)\n",
    "\n",
    "# Set the dataframe index to manga catalog matched index\n",
    "lg12_dr16_match_df = lg12_dr16_match_df.set_index('DR16_match_idx')\n",
    "\n",
    "# Display first 5 rows\n",
    "#print(lg12_dr16_match_df.head(5))\n",
    "\n",
    "# Store all the matched observation using the skycoord idx in a dataframe \n",
    "mangaDR16_catalog_lg12_match_df = manga_dr16_catalog.iloc[lg12_dr16_skycoord_match[0]]\n",
    "#print(mangaDR16_catalog_lg12_match_df.head(5))\n",
    "\n",
    "# join the dataframes\n",
    "final_lg12_manga_match_df = mangaDR16_catalog_lg12_match_df.join(lg12_dr16_match_df)\n",
    "final_lg12_manga_match_df.to_csv('/Users/mmckay/Desktop/research/FMR_MZR/final_MaNGAdr16_lg12_crossmatch.csv')\n",
    "\n",
    "final_lg12_manga_match_df.head(5)"
   ]
  },
  {
   "cell_type": "code",
   "execution_count": 22,
   "metadata": {},
   "outputs": [
    {
     "output_type": "execute_result",
     "data": {
      "text/plain": [
       "            Objra     Objdec   mangaid    plateifu     nsa_z  SDSS_RA_deg  \\\n",
       "8      132.912768  57.107424   1-48136  10001-3702  0.025606   132.912735   \n",
       "268    117.993013  15.711410  1-412058  10217-6103  0.047002   117.992996   \n",
       "1852   202.203974  53.442921  1-195979  11758-1901  0.025357   202.203979   \n",
       "1887   192.768552  48.408575  1-283903  11760-1902  0.049425   192.768509   \n",
       "1972   214.930149  49.236646  1-320796  11827-1902  0.025528   214.930115   \n",
       "3708    18.437294  15.683427   1-40810  12094-1901  0.044276    18.437267   \n",
       "5705   163.219110  43.428404  1-255878   8254-1902  0.024237   163.219131   \n",
       "5940   247.304125  41.150872  1-633990  8312-12704  0.029593   247.304123   \n",
       "6820   198.189163  46.934987  1-284526   8465-9102  0.027681   198.189117   \n",
       "7078   247.674430  40.529389  1-135054  8550-12703  0.029812   247.674454   \n",
       "7252   241.033211  47.349658  1-134399   8565-1902  0.042177   241.033203   \n",
       "7459   221.437984  51.580820  1-631278   8595-3703  0.029627   221.437973   \n",
       "9872   121.920806  39.004239  1-122304   9183-3703  0.023345   121.920807   \n",
       "11265  251.128190  19.940763  1-294332   9894-3703  0.022978   251.128143   \n",
       "\n",
       "       SDSS_DEC_deg    SDSS_z  DR16_match_sep2d_deg  DR16_match_sep2d_arcsec  \n",
       "8         57.107433  0.025606              0.000021                 0.073910  \n",
       "268       15.711414  0.047002              0.000017                 0.061114  \n",
       "1852      53.442905  0.025357              0.000016                 0.056090  \n",
       "1887      48.408554  0.049425              0.000035                 0.126702  \n",
       "1972      49.236649  0.025528              0.000022                 0.080294  \n",
       "3708      15.683413  0.044276              0.000030                 0.106758  \n",
       "5705      43.428398  0.024237              0.000017                 0.060257  \n",
       "5940      41.150890  0.029593              0.000018                 0.065034  \n",
       "6820      46.934990  0.027681              0.000031                 0.112648  \n",
       "7078      40.529392  0.029812              0.000018                 0.065126  \n",
       "7252      47.349693  0.042177              0.000035                 0.127079  \n",
       "7459      51.580814  0.029627              0.000009                 0.031459  \n",
       "9872      39.004246  0.023345              0.000007                 0.024821  \n",
       "11265     19.940758  0.022977              0.000044                 0.160160  "
      ],
      "text/html": "<div>\n<style scoped>\n    .dataframe tbody tr th:only-of-type {\n        vertical-align: middle;\n    }\n\n    .dataframe tbody tr th {\n        vertical-align: top;\n    }\n\n    .dataframe thead th {\n        text-align: right;\n    }\n</style>\n<table border=\"1\" class=\"dataframe\">\n  <thead>\n    <tr style=\"text-align: right;\">\n      <th></th>\n      <th>Objra</th>\n      <th>Objdec</th>\n      <th>mangaid</th>\n      <th>plateifu</th>\n      <th>nsa_z</th>\n      <th>SDSS_RA_deg</th>\n      <th>SDSS_DEC_deg</th>\n      <th>SDSS_z</th>\n      <th>DR16_match_sep2d_deg</th>\n      <th>DR16_match_sep2d_arcsec</th>\n    </tr>\n  </thead>\n  <tbody>\n    <tr>\n      <th>8</th>\n      <td>132.912768</td>\n      <td>57.107424</td>\n      <td>1-48136</td>\n      <td>10001-3702</td>\n      <td>0.025606</td>\n      <td>132.912735</td>\n      <td>57.107433</td>\n      <td>0.025606</td>\n      <td>0.000021</td>\n      <td>0.073910</td>\n    </tr>\n    <tr>\n      <th>268</th>\n      <td>117.993013</td>\n      <td>15.711410</td>\n      <td>1-412058</td>\n      <td>10217-6103</td>\n      <td>0.047002</td>\n      <td>117.992996</td>\n      <td>15.711414</td>\n      <td>0.047002</td>\n      <td>0.000017</td>\n      <td>0.061114</td>\n    </tr>\n    <tr>\n      <th>1852</th>\n      <td>202.203974</td>\n      <td>53.442921</td>\n      <td>1-195979</td>\n      <td>11758-1901</td>\n      <td>0.025357</td>\n      <td>202.203979</td>\n      <td>53.442905</td>\n      <td>0.025357</td>\n      <td>0.000016</td>\n      <td>0.056090</td>\n    </tr>\n    <tr>\n      <th>1887</th>\n      <td>192.768552</td>\n      <td>48.408575</td>\n      <td>1-283903</td>\n      <td>11760-1902</td>\n      <td>0.049425</td>\n      <td>192.768509</td>\n      <td>48.408554</td>\n      <td>0.049425</td>\n      <td>0.000035</td>\n      <td>0.126702</td>\n    </tr>\n    <tr>\n      <th>1972</th>\n      <td>214.930149</td>\n      <td>49.236646</td>\n      <td>1-320796</td>\n      <td>11827-1902</td>\n      <td>0.025528</td>\n      <td>214.930115</td>\n      <td>49.236649</td>\n      <td>0.025528</td>\n      <td>0.000022</td>\n      <td>0.080294</td>\n    </tr>\n    <tr>\n      <th>3708</th>\n      <td>18.437294</td>\n      <td>15.683427</td>\n      <td>1-40810</td>\n      <td>12094-1901</td>\n      <td>0.044276</td>\n      <td>18.437267</td>\n      <td>15.683413</td>\n      <td>0.044276</td>\n      <td>0.000030</td>\n      <td>0.106758</td>\n    </tr>\n    <tr>\n      <th>5705</th>\n      <td>163.219110</td>\n      <td>43.428404</td>\n      <td>1-255878</td>\n      <td>8254-1902</td>\n      <td>0.024237</td>\n      <td>163.219131</td>\n      <td>43.428398</td>\n      <td>0.024237</td>\n      <td>0.000017</td>\n      <td>0.060257</td>\n    </tr>\n    <tr>\n      <th>5940</th>\n      <td>247.304125</td>\n      <td>41.150872</td>\n      <td>1-633990</td>\n      <td>8312-12704</td>\n      <td>0.029593</td>\n      <td>247.304123</td>\n      <td>41.150890</td>\n      <td>0.029593</td>\n      <td>0.000018</td>\n      <td>0.065034</td>\n    </tr>\n    <tr>\n      <th>6820</th>\n      <td>198.189163</td>\n      <td>46.934987</td>\n      <td>1-284526</td>\n      <td>8465-9102</td>\n      <td>0.027681</td>\n      <td>198.189117</td>\n      <td>46.934990</td>\n      <td>0.027681</td>\n      <td>0.000031</td>\n      <td>0.112648</td>\n    </tr>\n    <tr>\n      <th>7078</th>\n      <td>247.674430</td>\n      <td>40.529389</td>\n      <td>1-135054</td>\n      <td>8550-12703</td>\n      <td>0.029812</td>\n      <td>247.674454</td>\n      <td>40.529392</td>\n      <td>0.029812</td>\n      <td>0.000018</td>\n      <td>0.065126</td>\n    </tr>\n    <tr>\n      <th>7252</th>\n      <td>241.033211</td>\n      <td>47.349658</td>\n      <td>1-134399</td>\n      <td>8565-1902</td>\n      <td>0.042177</td>\n      <td>241.033203</td>\n      <td>47.349693</td>\n      <td>0.042177</td>\n      <td>0.000035</td>\n      <td>0.127079</td>\n    </tr>\n    <tr>\n      <th>7459</th>\n      <td>221.437984</td>\n      <td>51.580820</td>\n      <td>1-631278</td>\n      <td>8595-3703</td>\n      <td>0.029627</td>\n      <td>221.437973</td>\n      <td>51.580814</td>\n      <td>0.029627</td>\n      <td>0.000009</td>\n      <td>0.031459</td>\n    </tr>\n    <tr>\n      <th>9872</th>\n      <td>121.920806</td>\n      <td>39.004239</td>\n      <td>1-122304</td>\n      <td>9183-3703</td>\n      <td>0.023345</td>\n      <td>121.920807</td>\n      <td>39.004246</td>\n      <td>0.023345</td>\n      <td>0.000007</td>\n      <td>0.024821</td>\n    </tr>\n    <tr>\n      <th>11265</th>\n      <td>251.128190</td>\n      <td>19.940763</td>\n      <td>1-294332</td>\n      <td>9894-3703</td>\n      <td>0.022978</td>\n      <td>251.128143</td>\n      <td>19.940758</td>\n      <td>0.022977</td>\n      <td>0.000044</td>\n      <td>0.160160</td>\n    </tr>\n  </tbody>\n</table>\n</div>"
     },
     "metadata": {},
     "execution_count": 22
    }
   ],
   "source": [
    "# Select matches that have a 2D seperation within 0.2 arcsec\n",
    "# filter the sep2d > 0.2 arcsecs - because the LG12 sample showed this to be the maximum value before sep > 1\" (4/14/21)\n",
    "sep2d_filter = final_bbrd_manga_match_df['DR16_match_sep2d_arcsec'] <= 0.4\n",
    "filtered_manga_bbrd_match_df = final_bbrd_manga_match_df[sep2d_filter]\n",
    "filtered_manga_bbrd_match_df.to_csv('/Users/mmckay/Desktop/research/FMR_MZR/filtered_final_MaNGAdr16_bbrd_crossmatch.csv')\n",
    "filtered_manga_bbrd_match_df\n"
   ]
  },
  {
   "cell_type": "code",
   "execution_count": 21,
   "metadata": {},
   "outputs": [
    {
     "output_type": "execute_result",
     "data": {
      "text/plain": [
       "            Objra     Objdec   mangaid    plateifu     nsa_z  SDSS_RA_deg  \\\n",
       "8      132.912768  57.107424   1-48136  10001-3702  0.025606   132.912735   \n",
       "15     133.878097  57.564545   1-48189  10001-9101  0.040086   133.878235   \n",
       "247    117.094733  18.502883  1-297825  10216-3703  0.046551   117.094727   \n",
       "249    117.700436  16.389386  1-412105  10216-6101  0.040867   117.700432   \n",
       "249    117.700436  16.389386  1-412105  10216-6101  0.040867   117.700432   \n",
       "...           ...        ...       ...         ...       ...          ...   \n",
       "11013  197.006916  26.765386  1-457054   9879-6102  0.034064   197.006912   \n",
       "11052  206.479717  23.063555  1-523032  9882-12701  0.027886   206.479706   \n",
       "11133  236.290113  26.506115  1-375678   9886-6103  0.032060   236.290085   \n",
       "11265  251.128190  19.940763  1-294332   9894-3703  0.022978   251.128143   \n",
       "11270  250.907826  21.691287  1-294374   9894-6104  0.035391   250.907806   \n",
       "\n",
       "       SDSS_DEC_deg    SDSS_z  DR16_match_sep2d_deg  DR16_match_sep2d_arcsec  \n",
       "8         57.107433  0.025606              0.000021                 0.073910  \n",
       "15        57.564583  0.040088              0.000083                 0.299579  \n",
       "247       18.502893  0.046551              0.000013                 0.045188  \n",
       "249       16.389380  0.040867              0.000008                 0.029232  \n",
       "249       16.389380  0.040867              0.000008                 0.029232  \n",
       "...             ...       ...                   ...                      ...  \n",
       "11013     26.765375  0.034064              0.000012                 0.042158  \n",
       "11052     23.063555  0.027886              0.000010                 0.037169  \n",
       "11133     26.506102  0.032060              0.000028                 0.101599  \n",
       "11265     19.940758  0.022977              0.000044                 0.160160  \n",
       "11270     21.691271  0.035391              0.000025                 0.088685  \n",
       "\n",
       "[268 rows x 10 columns]"
      ],
      "text/html": "<div>\n<style scoped>\n    .dataframe tbody tr th:only-of-type {\n        vertical-align: middle;\n    }\n\n    .dataframe tbody tr th {\n        vertical-align: top;\n    }\n\n    .dataframe thead th {\n        text-align: right;\n    }\n</style>\n<table border=\"1\" class=\"dataframe\">\n  <thead>\n    <tr style=\"text-align: right;\">\n      <th></th>\n      <th>Objra</th>\n      <th>Objdec</th>\n      <th>mangaid</th>\n      <th>plateifu</th>\n      <th>nsa_z</th>\n      <th>SDSS_RA_deg</th>\n      <th>SDSS_DEC_deg</th>\n      <th>SDSS_z</th>\n      <th>DR16_match_sep2d_deg</th>\n      <th>DR16_match_sep2d_arcsec</th>\n    </tr>\n  </thead>\n  <tbody>\n    <tr>\n      <th>8</th>\n      <td>132.912768</td>\n      <td>57.107424</td>\n      <td>1-48136</td>\n      <td>10001-3702</td>\n      <td>0.025606</td>\n      <td>132.912735</td>\n      <td>57.107433</td>\n      <td>0.025606</td>\n      <td>0.000021</td>\n      <td>0.073910</td>\n    </tr>\n    <tr>\n      <th>15</th>\n      <td>133.878097</td>\n      <td>57.564545</td>\n      <td>1-48189</td>\n      <td>10001-9101</td>\n      <td>0.040086</td>\n      <td>133.878235</td>\n      <td>57.564583</td>\n      <td>0.040088</td>\n      <td>0.000083</td>\n      <td>0.299579</td>\n    </tr>\n    <tr>\n      <th>247</th>\n      <td>117.094733</td>\n      <td>18.502883</td>\n      <td>1-297825</td>\n      <td>10216-3703</td>\n      <td>0.046551</td>\n      <td>117.094727</td>\n      <td>18.502893</td>\n      <td>0.046551</td>\n      <td>0.000013</td>\n      <td>0.045188</td>\n    </tr>\n    <tr>\n      <th>249</th>\n      <td>117.700436</td>\n      <td>16.389386</td>\n      <td>1-412105</td>\n      <td>10216-6101</td>\n      <td>0.040867</td>\n      <td>117.700432</td>\n      <td>16.389380</td>\n      <td>0.040867</td>\n      <td>0.000008</td>\n      <td>0.029232</td>\n    </tr>\n    <tr>\n      <th>249</th>\n      <td>117.700436</td>\n      <td>16.389386</td>\n      <td>1-412105</td>\n      <td>10216-6101</td>\n      <td>0.040867</td>\n      <td>117.700432</td>\n      <td>16.389380</td>\n      <td>0.040867</td>\n      <td>0.000008</td>\n      <td>0.029232</td>\n    </tr>\n    <tr>\n      <th>...</th>\n      <td>...</td>\n      <td>...</td>\n      <td>...</td>\n      <td>...</td>\n      <td>...</td>\n      <td>...</td>\n      <td>...</td>\n      <td>...</td>\n      <td>...</td>\n      <td>...</td>\n    </tr>\n    <tr>\n      <th>11013</th>\n      <td>197.006916</td>\n      <td>26.765386</td>\n      <td>1-457054</td>\n      <td>9879-6102</td>\n      <td>0.034064</td>\n      <td>197.006912</td>\n      <td>26.765375</td>\n      <td>0.034064</td>\n      <td>0.000012</td>\n      <td>0.042158</td>\n    </tr>\n    <tr>\n      <th>11052</th>\n      <td>206.479717</td>\n      <td>23.063555</td>\n      <td>1-523032</td>\n      <td>9882-12701</td>\n      <td>0.027886</td>\n      <td>206.479706</td>\n      <td>23.063555</td>\n      <td>0.027886</td>\n      <td>0.000010</td>\n      <td>0.037169</td>\n    </tr>\n    <tr>\n      <th>11133</th>\n      <td>236.290113</td>\n      <td>26.506115</td>\n      <td>1-375678</td>\n      <td>9886-6103</td>\n      <td>0.032060</td>\n      <td>236.290085</td>\n      <td>26.506102</td>\n      <td>0.032060</td>\n      <td>0.000028</td>\n      <td>0.101599</td>\n    </tr>\n    <tr>\n      <th>11265</th>\n      <td>251.128190</td>\n      <td>19.940763</td>\n      <td>1-294332</td>\n      <td>9894-3703</td>\n      <td>0.022978</td>\n      <td>251.128143</td>\n      <td>19.940758</td>\n      <td>0.022977</td>\n      <td>0.000044</td>\n      <td>0.160160</td>\n    </tr>\n    <tr>\n      <th>11270</th>\n      <td>250.907826</td>\n      <td>21.691287</td>\n      <td>1-294374</td>\n      <td>9894-6104</td>\n      <td>0.035391</td>\n      <td>250.907806</td>\n      <td>21.691271</td>\n      <td>0.035391</td>\n      <td>0.000025</td>\n      <td>0.088685</td>\n    </tr>\n  </tbody>\n</table>\n<p>268 rows × 10 columns</p>\n</div>"
     },
     "metadata": {},
     "execution_count": 21
    }
   ],
   "source": [
    "# filter the sep2d > 0.4 arcsecs - because the LG12 sample showed this to be the maximum value before sep > 1\" (4/14/21)\n",
    "sep2d_filter = final_lg12_manga_match_df['DR16_match_sep2d_arcsec'] <= 0.4\n",
    "filtered_manga_lg12_match_df = final_lg12_manga_match_df[sep2d_filter]\n",
    "filtered_manga_lg12_match_df.to_csv('/Users/mmckay/Desktop/research/FMR_MZR/filtered_final_MaNGAdr16_lg12_crossmatch.csv')\n",
    "filtered_manga_lg12_match_df"
   ]
  },
  {
   "cell_type": "code",
   "execution_count": null,
   "metadata": {},
   "outputs": [],
   "source": []
  }
 ]
}