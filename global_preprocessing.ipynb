{
 "metadata": {
  "language_info": {
   "codemirror_mode": {
    "name": "ipython",
    "version": 3
   },
   "file_extension": ".py",
   "mimetype": "text/x-python",
   "name": "python",
   "nbconvert_exporter": "python",
   "pygments_lexer": "ipython3",
   "version": "3.6.10-final"
  },
  "orig_nbformat": 2,
  "kernelspec": {
   "name": "python3",
   "display_name": "Python 3",
   "language": "python"
  }
 },
 "nbformat": 4,
 "nbformat_minor": 2,
 "cells": [
  {
   "source": [
    "### The aim of this notebook is to pre-process the global measurments and save to a csv file"
   ],
   "cell_type": "markdown",
   "metadata": {}
  },
  {
   "cell_type": "code",
   "execution_count": 1,
   "metadata": {},
   "outputs": [],
   "source": [
    "import numpy as np\n",
    "from astropy.io import fits\n",
    "import matplotlib.pyplot as plt\n",
    "import astropy.units as u\n",
    "import plotly.express as px\n",
    "import plotly.graph_objects as go\n",
    "plt.style.use('seaborn-dark')\n",
    "import glob\n",
    "import pandas as pd\n",
    "import seaborn as sns"
   ]
  },
  {
   "source": [
    "# Read in Global star forming LG12 and BBRD .csv file\n",
    "## - Global BPT AGN classification were already removed perviously"
   ],
   "cell_type": "markdown",
   "metadata": {}
  },
  {
   "cell_type": "code",
   "execution_count": 2,
   "metadata": {},
   "outputs": [],
   "source": [
    "lg12_global_df = pd.read_csv('/Users/mmckay/Desktop/research/FMR_MZR/lg12_sf_reduced.csv')\n",
    "#lg12_global_df.head()\n",
    "\n",
    "bbrd_global_df = pd.read_csv('/Users/mmckay/Desktop/research/FMR_MZR/bbrd_sf_reduced.csv')"
   ]
  },
  {
   "cell_type": "code",
   "execution_count": 3,
   "metadata": {},
   "outputs": [
    {
     "output_type": "execute_result",
     "data": {
      "text/plain": [
       "Index(['Unnamed: 0', 'RASDSSinfo', 'DecSDSSinfo', 'zSDSSinfo',\n",
       "       'HalphaSDSSline [1e-17*erg/cm^2/s]',\n",
       "       'OIII5007SDSSline [1e-17*erg/cm^2/s]',\n",
       "       'OIII4959SDSSline [1e-17*erg/cm^2/s]',\n",
       "       'HbetaSDSSline [1e-17*erg/cm^2/s]', 'HdeltaSDSSline [1e-17*erg/cm^2/s]',\n",
       "       'N6583SDSS [1e-17*erg/cm^2/s]', 'S6717SDSSline [1e-17*erg/cm^2/s]',\n",
       "       'S6731SDSSline [1e-17*erg/cm^2/s]',\n",
       "       'OII3726SDSSline [1e-17*erg/cm^2/s]',\n",
       "       'OII3729SDSSline [1e-17*erg/cm^2/s]',\n",
       "       'OI6300SDSSline [1e-17*erg/cm^2/s]', 'HalphaSDSSline_ERR',\n",
       "       'OIII5007SDSSline_ERR', 'OIII4959SDSSline_ERR', 'HbetaSDSSline_ERR',\n",
       "       'HdeltaSDSSline_ERR', 'N6583SDSS_ERR', 'S6717SDSSline_ERR',\n",
       "       'S6731SDSSline_ERR', 'OII3726SDSSline_ERR', 'OII3729SDSSline_ERR',\n",
       "       'OI6300SDSSline_ERR', 'Dn4000SDSSindx', 'petroRad', 'petroRadE',\n",
       "       'petroR50', 'petroR50E', 'petroR90', 'petroR90E',\n",
       "       'Metallicity_med(T04)', 'Metallicity_avg(T04)', 'Mstaravg_SDSStotlgm',\n",
       "       'Mstarmed_SDSStotlgm', 'SFR_flag_all', 'totalSFR_Avg', 'totalSFR_Med',\n",
       "       'fibSFR_avg_all', 'fibSFR_med_all', 'fibsSFR_avg_all',\n",
       "       'fibsSFR_med_all', 'sSFR_avg_all', 'sSFR_med_all', 'sSFR_flag_all',\n",
       "       'avgSFRD', 'medSFRD', 'Halpha_kcorr', 'Hbeta_kcorr', 'OIII5007_kcorr',\n",
       "       'OIII4959_kcorr', 'SII6716_kcorr', 'SII6731_kcorr', 'NII6583_kcorr',\n",
       "       'OII3726_kcorr', 'OII3729_kcorr', 'Log(O/H)+12 [NII/OII]',\n",
       "       'Log(O/H)+12 [R23]', 'NII/Halpha', 'OIII/Hbeta'],\n",
       "      dtype='object')"
      ]
     },
     "metadata": {},
     "execution_count": 3
    }
   ],
   "source": [
    "bbrd_global_df.columns"
   ]
  },
  {
   "source": [
    "## Preprocessing Steps for global measurments\n",
    "### 1. Remove BPT AGN class - already done prior\n",
    "### 2. Run function to make signal to noise cuts\n",
    "### 3. Make new dataframes for galaxies with a OIII S/N < 2 for both smaples  "
   ],
   "cell_type": "markdown",
   "metadata": {}
  },
  {
   "source": [
    "## 2. Run function to make signal to noise cuts\n",
    "### - Use the error to calculate the S/N ratio"
   ],
   "cell_type": "markdown",
   "metadata": {}
  },
  {
   "cell_type": "code",
   "execution_count": null,
   "metadata": {},
   "outputs": [],
   "source": [
    " "
   ]
  }
 ]
}